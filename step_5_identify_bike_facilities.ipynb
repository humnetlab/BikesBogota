{
 "cells": [
  {
   "cell_type": "code",
   "execution_count": 1,
   "metadata": {},
   "outputs": [],
   "source": [
    "import pandas as pd\n",
    "import geopandas as gpd\n",
    "import osmnx as ox\n",
    "import networkx as nx\n",
    "\n",
    "from shapely.geometry import Point\n",
    "from shapely.geometry import LineString\n",
    "from geopandas import GeoDataFrame\n",
    "import matplotlib.pyplot as plt"
   ]
  },
  {
   "cell_type": "markdown",
   "metadata": {},
   "source": [
    "### Read the percolation results"
   ]
  },
  {
   "cell_type": "code",
   "execution_count": 2,
   "metadata": {},
   "outputs": [],
   "source": [
    "perc_nodes =  pd.read_csv('nodes.csv')\n",
    "perc_edges = pd.read_csv('edges.csv')"
   ]
  },
  {
   "cell_type": "code",
   "execution_count": 4,
   "metadata": {},
   "outputs": [],
   "source": [
    "perc_edges['pair'] = perc_edges['Source'].astype('str') + '-' + perc_edges['Target'].astype('str')"
   ]
  },
  {
   "cell_type": "markdown",
   "metadata": {},
   "source": [
    "### Read bike network"
   ]
  },
  {
   "cell_type": "code",
   "execution_count": 5,
   "metadata": {},
   "outputs": [],
   "source": [
    "osm_bike = pd.read_csv('osm_bikepaths.csv')"
   ]
  },
  {
   "cell_type": "code",
   "execution_count": 6,
   "metadata": {},
   "outputs": [],
   "source": [
    "osm_bike['pair'] = osm_bike['u'].astype('str') + '-' + osm_bike['v'].astype('str')"
   ]
  },
  {
   "cell_type": "code",
   "execution_count": 7,
   "metadata": {},
   "outputs": [],
   "source": [
    "bike_links = osm_bike['pair']"
   ]
  },
  {
   "cell_type": "markdown",
   "metadata": {},
   "source": [
    "### Filter the network"
   ]
  },
  {
   "cell_type": "code",
   "execution_count": 8,
   "metadata": {},
   "outputs": [],
   "source": [
    "has_bike = perc_edges[perc_edges['pair'].isin(bike_links)]"
   ]
  },
  {
   "cell_type": "code",
   "execution_count": 9,
   "metadata": {},
   "outputs": [
    {
     "data": {
      "text/plain": [
       "count     8419.000000\n",
       "mean      9730.965673\n",
       "std       1128.247918\n",
       "min       5000.000000\n",
       "25%      10000.000000\n",
       "50%      10000.000000\n",
       "75%      10000.000000\n",
       "max      10000.000000\n",
       "Name: Weight, dtype: float64"
      ]
     },
     "execution_count": 9,
     "metadata": {},
     "output_type": "execute_result"
    }
   ],
   "source": [
    "has_bike['Weight'].describe()"
   ]
  },
  {
   "cell_type": "code",
   "execution_count": 10,
   "metadata": {},
   "outputs": [],
   "source": [
    "no_bike = perc_edges[~perc_edges['pair'].isin(bike_links)]"
   ]
  },
  {
   "cell_type": "code",
   "execution_count": 11,
   "metadata": {},
   "outputs": [
    {
     "data": {
      "text/plain": [
       "count    9137.000000\n",
       "mean     1176.406479\n",
       "std       594.288858\n",
       "min       521.000000\n",
       "25%       716.000000\n",
       "50%       996.000000\n",
       "75%      1502.000000\n",
       "max      4803.000000\n",
       "Name: Weight, dtype: float64"
      ]
     },
     "execution_count": 11,
     "metadata": {},
     "output_type": "execute_result"
    }
   ],
   "source": [
    "no_bike['Weight'].describe()"
   ]
  },
  {
   "cell_type": "code",
   "execution_count": 12,
   "metadata": {},
   "outputs": [
    {
     "data": {
      "text/plain": [
       "(17556, 17556)"
      ]
     },
     "execution_count": 12,
     "metadata": {},
     "output_type": "execute_result"
    }
   ],
   "source": [
    "len(has_bike)+len(no_bike),len(perc_edges)"
   ]
  },
  {
   "cell_type": "markdown",
   "metadata": {},
   "source": [
    "### Eliminate links that have a bike facility on them"
   ]
  },
  {
   "cell_type": "code",
   "execution_count": 2,
   "metadata": {},
   "outputs": [],
   "source": [
    "no_bike.rename(columns={'Source':'source','Target':'target','Weight':'weight'},inplace=True)"
   ]
  },
  {
   "cell_type": "code",
   "execution_count": 1,
   "metadata": {},
   "outputs": [],
   "source": [
    "perc_nodes.set_index('Id',inplace=True)"
   ]
  },
  {
   "cell_type": "code",
   "execution_count": 3,
   "metadata": {},
   "outputs": [],
   "source": [
    "no_bike.set_index('source',inplace=True)\n",
    "no_bike['source_lat'] = perc_nodes['lat']\n",
    "no_bike['source_lon'] = perc_nodes['lon']\n",
    "no_bike.reset_index(inplace=True)"
   ]
  },
  {
   "cell_type": "code",
   "execution_count": 4,
   "metadata": {},
   "outputs": [],
   "source": [
    "no_bike.set_index('target',inplace=True)\n",
    "no_bike['target_lat'] = perc_nodes['lat']\n",
    "no_bike['target_lon'] = perc_nodes['lon']\n",
    "no_bike.reset_index(inplace=True)"
   ]
  },
  {
   "cell_type": "code",
   "execution_count": 18,
   "metadata": {},
   "outputs": [
    {
     "data": {
      "text/plain": [
       "(0, 0, 0, 0)"
      ]
     },
     "execution_count": 18,
     "metadata": {},
     "output_type": "execute_result"
    }
   ],
   "source": [
    "len(no_bike[no_bike['source_lat'].isnull()]),len(no_bike[no_bike['source_lon'].isnull()]),\\\n",
    "len(no_bike[no_bike['target_lat'].isnull()]),len(no_bike[no_bike['target_lon'].isnull()])"
   ]
  },
  {
   "cell_type": "code",
   "execution_count": 19,
   "metadata": {},
   "outputs": [],
   "source": [
    "crs_wgs='+init=epsg:4326'"
   ]
  },
  {
   "cell_type": "code",
   "execution_count": 20,
   "metadata": {},
   "outputs": [],
   "source": [
    "crs_utm=\"+proj=utm +zone=18 +ellps=WGS84 +datum=WGS84 +units=m +no_defs\""
   ]
  },
  {
   "cell_type": "code",
   "execution_count": 21,
   "metadata": {},
   "outputs": [],
   "source": [
    "nodes_source=no_bike[['source','source_lat','source_lon']]\n",
    "nodes_source.rename(columns={'source':'node','source_lat':'lat','source_lon':'lon'},inplace=True)\n",
    "nodes_target=no_bike[['target','target_lat','target_lon']]\n",
    "nodes_target.rename(columns={'target':'node','target_lat':'lat','target_lon':'lon'},inplace=True)\n",
    "nodes_latent=pd.concat([nodes_target,nodes_source])"
   ]
  },
  {
   "cell_type": "code",
   "execution_count": 22,
   "metadata": {},
   "outputs": [],
   "source": [
    "nodes_latent.drop_duplicates('node',inplace=True)"
   ]
  },
  {
   "cell_type": "code",
   "execution_count": 23,
   "metadata": {},
   "outputs": [],
   "source": [
    "geometry = [Point(xy) for xy in zip(nodes_latent.lon, nodes_latent.lat)]\n",
    "node_latent_gdf = GeoDataFrame(nodes_latent, crs=crs_wgs, geometry=geometry)"
   ]
  },
  {
   "cell_type": "code",
   "execution_count": 24,
   "metadata": {},
   "outputs": [],
   "source": [
    "# Change crs to calculate the buffer\n",
    "node_latent_gdf=node_latent_gdf.to_crs(crs_utm)"
   ]
  },
  {
   "cell_type": "code",
   "execution_count": 25,
   "metadata": {},
   "outputs": [],
   "source": [
    "node_latent_gdf.loc[:,'buffer']=node_latent_gdf['geometry'].buffer(50)"
   ]
  },
  {
   "cell_type": "code",
   "execution_count": 26,
   "metadata": {},
   "outputs": [],
   "source": [
    "node_latent_gdf = node_latent_gdf.set_geometry('buffer')"
   ]
  },
  {
   "cell_type": "code",
   "execution_count": 27,
   "metadata": {},
   "outputs": [],
   "source": [
    "node_latent_gdf=node_latent_gdf.to_crs(crs_wgs)"
   ]
  },
  {
   "cell_type": "markdown",
   "metadata": {},
   "source": [
    "Open the projected cicloruta"
   ]
  },
  {
   "cell_type": "code",
   "execution_count": 29,
   "metadata": {},
   "outputs": [],
   "source": [
    "new_cicloruta=gpd.read_file('./01-data/Shapefiles/projected_cicloruta.shp')\n",
    "cicloruta=gpd.read_file('./01-data/Shapefiles/Red_Ciclorruta.shp')"
   ]
  },
  {
   "cell_type": "code",
   "execution_count": 33,
   "metadata": {},
   "outputs": [],
   "source": [
    "new_cicloruta_proj=new_cicloruta.to_crs(crs_wgs)\n",
    "cicloruta_proj=cicloruta.to_crs(crs_wgs)"
   ]
  },
  {
   "cell_type": "code",
   "execution_count": 5,
   "metadata": {},
   "outputs": [],
   "source": [
    "intersects=gpd.sjoin(node_latent_gdf,new_cicloruta_proj[['geometry']],how='left',op='intersects')"
   ]
  },
  {
   "cell_type": "code",
   "execution_count": 36,
   "metadata": {},
   "outputs": [],
   "source": [
    "intersects.rename(columns={'index_right':'has_new_cicloruta'},inplace=True)"
   ]
  },
  {
   "cell_type": "code",
   "execution_count": 38,
   "metadata": {},
   "outputs": [],
   "source": [
    "intersects.drop_duplicates('node',inplace=True)"
   ]
  },
  {
   "cell_type": "code",
   "execution_count": 39,
   "metadata": {},
   "outputs": [],
   "source": [
    "intersects_2=gpd.sjoin(intersects,cicloruta_proj[['geometry']],how='left',op='intersects')"
   ]
  },
  {
   "cell_type": "code",
   "execution_count": 40,
   "metadata": {},
   "outputs": [],
   "source": [
    "intersects_2.drop_duplicates('node',inplace=True)"
   ]
  },
  {
   "cell_type": "code",
   "execution_count": 41,
   "metadata": {},
   "outputs": [],
   "source": [
    "intersects_2.rename(columns={'index_right':'has_cicloruta'},inplace=True)"
   ]
  },
  {
   "cell_type": "code",
   "execution_count": 44,
   "metadata": {},
   "outputs": [],
   "source": [
    "# Check\n",
    "intersects_2.loc[:,'near_bike']=0\n",
    "intersects_2.loc[intersects_2['has_new_cicloruta'].notnull(),'near_bike']=1\n",
    "intersects_2.loc[intersects_2['has_cicloruta'].notnull(),'near_bike']=1"
   ]
  },
  {
   "cell_type": "markdown",
   "metadata": {},
   "source": [
    "Check if a node from an edge of the percolation is near a cicloruta"
   ]
  },
  {
   "cell_type": "code",
   "execution_count": 46,
   "metadata": {},
   "outputs": [],
   "source": [
    "source_near_bike=pd.merge(no_bike,intersects_2[['node','near_bike']],left_on='source',right_on='node',how='left')"
   ]
  },
  {
   "cell_type": "code",
   "execution_count": 47,
   "metadata": {},
   "outputs": [],
   "source": [
    "source_near_bike.rename(columns={'near_bike':'source_near_bike'},inplace=True)"
   ]
  },
  {
   "cell_type": "code",
   "execution_count": 48,
   "metadata": {},
   "outputs": [],
   "source": [
    "source_near_bike.drop('node',axis=1,inplace=True)"
   ]
  },
  {
   "cell_type": "code",
   "execution_count": 49,
   "metadata": {},
   "outputs": [],
   "source": [
    "target_near_bike=pd.merge(source_near_bike,intersects_2[['node','near_bike']],left_on='target',right_on='node',how='left')"
   ]
  },
  {
   "cell_type": "code",
   "execution_count": 50,
   "metadata": {},
   "outputs": [],
   "source": [
    "target_near_bike.drop('node',axis=1,inplace=True)\n",
    "target_near_bike.rename(columns={'near_bike':'target_near_bike'},inplace=True)"
   ]
  },
  {
   "cell_type": "code",
   "execution_count": 52,
   "metadata": {},
   "outputs": [],
   "source": [
    "target_near_bike.loc[:,'near_bike']=0\n",
    "target_near_bike.loc[(target_near_bike['source_near_bike']==1)&(target_near_bike['target_near_bike']==1),'near_bike']=1"
   ]
  },
  {
   "cell_type": "code",
   "execution_count": 55,
   "metadata": {},
   "outputs": [],
   "source": [
    "latent_shp=target_near_bike[['source','target','weight','source_lat','source_lon','target_lat','target_lon','near_bike']]"
   ]
  },
  {
   "cell_type": "code",
   "execution_count": 6,
   "metadata": {},
   "outputs": [],
   "source": [
    "latent_shp.loc[:,'line']=latent_shp.apply(lambda row:([row['source_lon'],row['source_lat']],[row['target_lon'],\\\n",
    "                                                                                       row['target_lat']]),axis=1)"
   ]
  },
  {
   "cell_type": "code",
   "execution_count": 58,
   "metadata": {},
   "outputs": [],
   "source": [
    "latent_shp.loc[:,'linestring']=latent_shp['line'].apply(lambda x: LineString(x))"
   ]
  },
  {
   "cell_type": "code",
   "execution_count": 60,
   "metadata": {},
   "outputs": [],
   "source": [
    "no_bike_shp=latent_shp[latent_shp['near_bike']==0]"
   ]
  },
  {
   "cell_type": "code",
   "execution_count": 61,
   "metadata": {},
   "outputs": [],
   "source": [
    "no_bike_shp.loc[:,'line']=no_bike_shp.apply(lambda row:([row['source_lon'],row['source_lat']],[row['target_lon'],\\\n",
    "                                                                                       row['target_lat']]),axis=1)"
   ]
  },
  {
   "cell_type": "code",
   "execution_count": 10,
   "metadata": {},
   "outputs": [],
   "source": [
    "# Transform final into a geodataframe\n",
    "no_bike_shp_gdf = GeoDataFrame(no_bike_shp, crs=crs_wgs, geometry='linestring')"
   ]
  },
  {
   "cell_type": "code",
   "execution_count": 66,
   "metadata": {},
   "outputs": [],
   "source": [
    "no_bike_shp_gdf[['source','target','linestring','weight']].to_file('no_bike_latent_v17_giantF521.shp')"
   ]
  },
  {
   "cell_type": "code",
   "execution_count": null,
   "metadata": {},
   "outputs": [],
   "source": []
  }
 ],
 "metadata": {
  "kernelspec": {
   "display_name": "Python 3",
   "language": "python",
   "name": "python3"
  },
  "language_info": {
   "codemirror_mode": {
    "name": "ipython",
    "version": 3
   },
   "file_extension": ".py",
   "mimetype": "text/x-python",
   "name": "python",
   "nbconvert_exporter": "python",
   "pygments_lexer": "ipython3",
   "version": "3.6.10"
  }
 },
 "nbformat": 4,
 "nbformat_minor": 2
}
