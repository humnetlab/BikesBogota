{
 "cells": [
  {
   "cell_type": "markdown",
   "metadata": {},
   "source": [
    "## Introduction\n",
    "The primary goal of this notebook is to obtain the map matching for GPS data. To accomplish this goal, we are going to parse the trajectories, analyze the travel speed and duration as well as the departures of each trip"
   ]
  },
  {
   "cell_type": "code",
   "execution_count": 1,
   "metadata": {},
   "outputs": [],
   "source": [
    "import pandas as pd\n",
    "import geopandas as gpd\n",
    "import osmnx as ox\n",
    "import networkx as nx\n",
    "from collections import Counter\n",
    "\n",
    "import matplotlib.pyplot as plt\n",
    "%matplotlib inline\n",
    "#import seaborn as sns\n",
    "\n",
    "import os\n",
    "import glob\n",
    "import math\n",
    "import numpy as np\n",
    "\n",
    "import calendar\n",
    "from datetime import datetime\n",
    "import time\n",
    "\n",
    "import requests\n",
    "import json "
   ]
  },
  {
   "cell_type": "markdown",
   "metadata": {},
   "source": [
    "## Load the data"
   ]
  },
  {
   "cell_type": "code",
   "execution_count": 2,
   "metadata": {},
   "outputs": [],
   "source": [
    "# Load the data from the parsed trajectories\n",
    "data=pd.read_csv('data_parsed.csv')"
   ]
  },
  {
   "cell_type": "code",
   "execution_count": 5,
   "metadata": {},
   "outputs": [],
   "source": [
    "idx = #add an id\n",
    "test=data[data['activity_id']==idx]"
   ]
  },
  {
   "cell_type": "markdown",
   "metadata": {},
   "source": [
    "This image shows an example fo why we need to parse trajectories before using the data. We took a trip registered by the app and parsed it. We can see how a single trip is divided into 6 other trips/tours in which the latitude of the person changes over the time. Also, we can see how points classified as `stays` have a similar latitutude over the time"
   ]
  },
  {
   "cell_type": "code",
   "execution_count": 6,
   "metadata": {},
   "outputs": [
    {
     "data": {
      "image/png": "[encoded data removed]",
      "text/plain": [
       "<Figure size 432x288 with 1 Axes>"
      ]
     },
     "metadata": {
      "needs_background": "light"
     },
     "output_type": "display_data"
    }
   ],
   "source": [
    "color=['r','y','b','g','p','v']\n",
    "for i in test['stays'].unique():\n",
    "    if i!=0:\n",
    "        plt.plot(test[test['stays']==i]['delta_seconds'],test[test['stays']==i]['lat'],'r');\n",
    "    else:\n",
    "        plt.scatter(test[test['stays']==i]['delta_seconds'],test[test['stays']==i]['lat'],1);\n",
    "plt.xlabel ('Delta time (seconds)');\n",
    "plt.ylabel ('Latitude');\n",
    "plt.legend(['move 1','move 2','move 3','move 4','move 5','move 6','stay']);\n",
    "plt.title('Example of a parsed trajectory');\n",
    "plt.savefig('parsed_example.eps', format='eps', dpi=1000)"
   ]
  },
  {
   "cell_type": "code",
   "execution_count": 7,
   "metadata": {},
   "outputs": [],
   "source": [
    "# filter the data that has stays greater than  so that we consider only moving people\n",
    "data=data[data['stays']>0]"
   ]
  },
  {
   "cell_type": "code",
   "execution_count": 8,
   "metadata": {},
   "outputs": [],
   "source": [
    "# Create new activity ids for the \"new\" trips\n",
    "data.loc[:,'new_activity_id']=data['activity_id'].astype('str')+'-'+data['stays'].astype('int').astype('str')"
   ]
  },
  {
   "cell_type": "markdown",
   "metadata": {},
   "source": [
    "## Trips Description"
   ]
  },
  {
   "cell_type": "markdown",
   "metadata": {},
   "source": [
    "### Calculate instantaneous speed"
   ]
  },
  {
   "cell_type": "code",
   "execution_count": 10,
   "metadata": {},
   "outputs": [],
   "source": [
    "# Function to calculte distance\n",
    "def calculate_dist (lat_1,lat_2,lon_1,lon_2):\n",
    "    if (math.isnan(lat_1)|math.isnan(lat_2)|math.isnan(lon_1)|math.isnan(lon_2)):\n",
    "         return float('nan')         \n",
    "    elif ((lat_1==lat_2)&(lon_1==lon_2)):\n",
    "        dist=0.0\n",
    "    else:\n",
    "        R_aver = 6374;\n",
    "        lat_1 = math.radians(lat_1)\n",
    "        lon_1 = math.radians(lon_1)\n",
    "        lat_2 = math.radians(lat_2)\n",
    "        lon_2 = math.radians(lon_2)\n",
    "        aux=math.cos(lat_1)*math.cos(lat_2)*math.cos(lon_1-lon_2) + math.sin(lat_1)*math.sin(lat_2)\n",
    "        if aux>1:\n",
    "            aux=1\n",
    "        dist = R_aver * math.acos(aux);\n",
    "            \n",
    "    return dist*1000  "
   ]
  },
  {
   "cell_type": "code",
   "execution_count": 11,
   "metadata": {},
   "outputs": [],
   "source": [
    "data.reset_index(inplace=True)"
   ]
  },
  {
   "cell_type": "code",
   "execution_count": 12,
   "metadata": {},
   "outputs": [],
   "source": [
    "data.rename(columns={'lat':'y1','lon':'x1'},inplace=True)"
   ]
  },
  {
   "cell_type": "code",
   "execution_count": 13,
   "metadata": {},
   "outputs": [],
   "source": [
    "# Add the following point to each record to avoid using loops\n",
    "data.loc[1:,'x2']=data['x1'].tolist()[0:-1]\n",
    "data.loc[1:,'y2']=data['y1'].tolist()[0:-1]"
   ]
  },
  {
   "cell_type": "code",
   "execution_count": 16,
   "metadata": {},
   "outputs": [],
   "source": [
    "# calculate instantaneous distance\n",
    "data.loc[:,'distance_inst']=data.apply(lambda row: calculate_dist(row['y1'],row['y2'],\\\n",
    "                                row['x1'],row['x2']),axis=1)"
   ]
  },
  {
   "cell_type": "code",
   "execution_count": 17,
   "metadata": {},
   "outputs": [],
   "source": [
    "# Get the time\n",
    "data.loc[:,'date_1']=data['date'].apply(lambda x: datetime.strptime(x,'%Y-%m-%dT%H:%M:%S'))"
   ]
  },
  {
   "cell_type": "code",
   "execution_count": 18,
   "metadata": {},
   "outputs": [],
   "source": [
    "# Add the time for the destination\n",
    "data.loc[1:,'date_2']=data['date'].tolist()[0:-1]\n",
    "data.loc[0,'date_2']=data['date'][0]\n",
    "data.loc[:,'date_2']=data['date_2'].apply(lambda x: datetime.strptime(x,'%Y-%m-%dT%H:%M:%S'))"
   ]
  },
  {
   "cell_type": "code",
   "execution_count": 19,
   "metadata": {},
   "outputs": [],
   "source": [
    "# Delta time (instantaneous)\n",
    "data.loc[:,'delta_sec']=(data['date_1']-data['date_2']).apply(lambda x: x.total_seconds())"
   ]
  },
  {
   "cell_type": "code",
   "execution_count": 20,
   "metadata": {},
   "outputs": [],
   "source": [
    "# Calculate Speeds\n",
    "data.loc[:,'speed_ms']=data['distance_inst']/data['delta_sec']\n",
    "data.loc[:,'speed_kmh']=data['speed_ms'].apply(lambda x: (x/1000)*3600)"
   ]
  },
  {
   "cell_type": "code",
   "execution_count": 22,
   "metadata": {},
   "outputs": [],
   "source": [
    "# Use only the speed between same activity IDs. Check that two continuous data points belong to the same\n",
    "# activity_id to calculate mean speed\n",
    "data.loc[1:,'activity_id2']=(data['new_activity_id'].tolist()[0:-1])\n",
    "data.loc[:,'same_activity']=(data['new_activity_id']==data['activity_id2'])*1"
   ]
  },
  {
   "cell_type": "code",
   "execution_count": 23,
   "metadata": {},
   "outputs": [],
   "source": [
    "# Filter the data so that we use only the same activity ids for the speeds\n",
    "data=data[data['same_activity']==1]"
   ]
  },
  {
   "cell_type": "markdown",
   "metadata": {},
   "source": [
    "Set a speed limit for the speeds which is 30kmh."
   ]
  },
  {
   "cell_type": "code",
   "execution_count": 28,
   "metadata": {},
   "outputs": [],
   "source": [
    "max_speed=30"
   ]
  },
  {
   "cell_type": "code",
   "execution_count": 30,
   "metadata": {},
   "outputs": [],
   "source": [
    "# Filter the speeds that are reasonable\n",
    "data=data[data['speed_kmh']<=max_speed]"
   ]
  },
  {
   "cell_type": "code",
   "execution_count": 31,
   "metadata": {},
   "outputs": [],
   "source": [
    "mean_speed=data.groupby(['new_activity_id'])[['speed_kmh']].mean()"
   ]
  },
  {
   "cell_type": "code",
   "execution_count": 32,
   "metadata": {},
   "outputs": [
    {
     "data": {
      "image/png": "[encoded data removed]",
      "text/plain": [
       "<Figure size 432x288 with 1 Axes>"
      ]
     },
     "metadata": {
      "needs_background": "light"
     },
     "output_type": "display_data"
    }
   ],
   "source": [
    "plt.hist(mean_speed['speed_kmh'],bins=10)\n",
    "plt.xlabel('Speed_kmh')\n",
    "plt.ylabel('Frequency')\n",
    "plt.title('Mean speed in Km/h')\n",
    "plt.savefig('speeds.eps', format='eps', dpi=1000)"
   ]
  },
  {
   "cell_type": "markdown",
   "metadata": {},
   "source": [
    "# Trip Duration"
   ]
  },
  {
   "cell_type": "code",
   "execution_count": 81,
   "metadata": {},
   "outputs": [],
   "source": [
    "def duration(data):\n",
    "    minutes=(data['date_1'].max()-data['date_1'].min()).total_seconds()/60\n",
    "    return minutes"
   ]
  },
  {
   "cell_type": "code",
   "execution_count": 82,
   "metadata": {},
   "outputs": [],
   "source": [
    "durations=data.groupby('new_activity_id').apply(duration)"
   ]
  },
  {
   "cell_type": "code",
   "execution_count": 83,
   "metadata": {
    "scrolled": true
   },
   "outputs": [
    {
     "data": {
      "image/png": "[encoded data removed]",
      "text/plain": [
       "<Figure size 432x288 with 1 Axes>"
      ]
     },
     "metadata": {
      "needs_background": "light"
     },
     "output_type": "display_data"
    }
   ],
   "source": [
    "# Filter the trips of more than 5 hours\n",
    "plt.hist(durations[durations<300],bins = list(range(0,300,10)));\n",
    "plt.xlabel('trip duration in minutes');\n",
    "plt.ylabel('frequency');\n",
    "plt.title('trip duration distribution');\n",
    "plt.savefig('duration.eps', format='eps', dpi=1000)"
   ]
  },
  {
   "cell_type": "code",
   "execution_count": 84,
   "metadata": {},
   "outputs": [
    {
     "data": {
      "text/plain": [
       "count    4179.000000\n",
       "mean       28.407442\n",
       "std        20.033622\n",
       "min         0.000000\n",
       "25%        13.250000\n",
       "50%        25.833333\n",
       "75%        39.958333\n",
       "max       185.933333\n",
       "dtype: float64"
      ]
     },
     "execution_count": 84,
     "metadata": {},
     "output_type": "execute_result"
    }
   ],
   "source": [
    "durations.describe()"
   ]
  },
  {
   "cell_type": "code",
   "execution_count": 85,
   "metadata": {},
   "outputs": [],
   "source": [
    "data_filtered=pd.DataFrame(durations[durations<300].reset_index())['new_activity_id'].tolist()"
   ]
  },
  {
   "cell_type": "code",
   "execution_count": 2,
   "metadata": {},
   "outputs": [],
   "source": [
    "# Thanks to the parsing, we did not get any trip longer than 300 minutes, thus, buth lists have equal lenght\n",
    "len(data_filtered),len(data['new_activity_id'].unique())"
   ]
  },
  {
   "cell_type": "markdown",
   "metadata": {},
   "source": [
    "# Departures analysis"
   ]
  },
  {
   "cell_type": "code",
   "execution_count": 87,
   "metadata": {},
   "outputs": [],
   "source": [
    "data=data[data['new_activity_id'].isin(data_filtered)]"
   ]
  },
  {
   "cell_type": "code",
   "execution_count": 88,
   "metadata": {},
   "outputs": [
    {
     "data": {
      "text/plain": [
       "(4179, 4179)"
      ]
     },
     "execution_count": 88,
     "metadata": {},
     "output_type": "execute_result"
    }
   ],
   "source": [
    "len(data['new_activity_id'].unique()),len(data['new_activity_id'].unique())"
   ]
  },
  {
   "cell_type": "code",
   "execution_count": 89,
   "metadata": {},
   "outputs": [],
   "source": [
    "data.loc[:,'hour']=data['date'].apply(lambda x: datetime.strptime(x[11:],'%H:%M:%S').hour+datetime.strptime(x[11:],\\\n",
    "    '%H:%M:%S').minute/60.0 )"
   ]
  },
  {
   "cell_type": "code",
   "execution_count": 90,
   "metadata": {},
   "outputs": [],
   "source": [
    "data.loc[:,'day_num']=data['date_1'].apply(lambda x: x.weekday())\n",
    "data.loc[:,'day_name']=data['date_1'].apply(lambda x: calendar.day_name[x.weekday()])"
   ]
  },
  {
   "cell_type": "code",
   "execution_count": 91,
   "metadata": {},
   "outputs": [],
   "source": [
    "data_departures=data.drop_duplicates(subset='new_activity_id',keep='first')"
   ]
  },
  {
   "cell_type": "code",
   "execution_count": 92,
   "metadata": {},
   "outputs": [
    {
     "data": {
      "image/png": "[encoded data removed]",
      "text/plain": [
       "<Figure size 432x288 with 1 Axes>"
      ]
     },
     "metadata": {
      "needs_background": "light"
     },
     "output_type": "display_data"
    }
   ],
   "source": [
    "data_dw=data_departures[data_departures['day_num']<5]\n",
    "plt.hist(data_dw['hour'],bins=24);\n",
    "plt.xlabel('Hour of the day');\n",
    "plt.ylabel('Frequency');\n",
    "plt.title('Departure times for day of the week');\n",
    "plt.savefig('week.eps', format='eps', dpi=1000)"
   ]
  },
  {
   "cell_type": "code",
   "execution_count": 93,
   "metadata": {},
   "outputs": [
    {
     "data": {
      "image/png": "[encoded data removed]",
      "text/plain": [
       "<Figure size 432x288 with 1 Axes>"
      ]
     },
     "metadata": {
      "needs_background": "light"
     },
     "output_type": "display_data"
    }
   ],
   "source": [
    "data_dnw=data_departures[data_departures['day_num']>=5]\n",
    "plt.hist(data_dnw['hour'],bins=24);\n",
    "plt.xlabel('Hour of the day');\n",
    "plt.ylabel('Frequency');\n",
    "plt.title('Departure times for day of the weekend');\n",
    "plt.savefig('weekend.eps', format='eps', dpi=1000)"
   ]
  },
  {
   "cell_type": "markdown",
   "metadata": {},
   "source": [
    "### Figures formatted for paper"
   ]
  },
  {
   "cell_type": "code",
   "execution_count": 94,
   "metadata": {},
   "outputs": [
    {
     "data": {
      "image/png": "[encoded data removed]",
      "text/plain": [
       "<Figure size 720x432 with 4 Axes>"
      ]
     },
     "metadata": {
      "needs_background": "light"
     },
     "output_type": "display_data"
    }
   ],
   "source": [
    "nb, b = np.histogram(mean_speed['speed_kmh'], bins = np.linspace(0,30,31),density = True)\n",
    "b = b[:-1]\n",
    "frac = np.divide(nb, float(np.sum(nb)))\n",
    "\n",
    "n_dur, dur = np.histogram(durations[durations<300], bins = np.linspace(0,180,45), density = True)\n",
    "dur = dur[:-1]\n",
    "frac_dur = np.divide(n_dur, np.sum(n_dur))\n",
    "\n",
    "n_week, week = np.histogram(data_dw['hour'], bins = np.linspace(0,25,26), density = True)\n",
    "week = week[:-1]\n",
    "frac_week = np.divide(n_week, np.sum(n_week))\n",
    "\n",
    "n_weekend, weekend = np.histogram(data_dnw['hour'], bins = np.linspace(0,25,26), density = True)\n",
    "weekend = weekend[:-1]\n",
    "frac_weekend = np.divide(n_weekend, np.sum(n_weekend))\n",
    "\n",
    "\n",
    "#######\n",
    "plt.figure(figsize=(10,6))\n",
    "#00BFFF\n",
    "#6691B4 azul inicial\n",
    "plt.subplot(2,2,1)\n",
    "plt.bar(b, frac, width=1, linewidth=1, edgecolor='#000000', color='#6691B4',alpha=1, label=\"Biko\")\n",
    "plt.legend()\n",
    "xt = plt.xticks()[0]  \n",
    "xmin, xmax = min(xt), max(xt)  \n",
    "plt.xlim(0,30)\n",
    "plt.ylim(0,0.12)\n",
    "plt.xlabel(\"Speed (km/h)\",size=14)\n",
    "plt.ylabel(\"Density\",size=14)\n",
    "plt.tight_layout()\n",
    "\n",
    "######\n",
    "plt.subplot(2,2,2)\n",
    "# plt.bar(b, frac, width=1, linewidth=1, edgecolor='#000000', color='#6691B4',alpha=1, label=\"Biko\")\n",
    "plt.bar(dur, frac_dur, width=4, linewidth=1, edgecolor='#000000', color='#6691B4',alpha=1, label=\"Biko\")\n",
    "plt.legend()\n",
    "xt = plt.xticks()[0]  \n",
    "xmin, xmax = min(xt), max(xt)  \n",
    "plt.xlim(0,180)\n",
    "plt.ylim(0,0.1)\n",
    "plt.xlabel(\"Travel time (minutes)\",size=14)\n",
    "plt.ylabel(\"Density\",size=14)\n",
    "plt.tight_layout()\n",
    "\n",
    "\n",
    "######\n",
    "plt.subplot(2,2,3)\n",
    "# plt.bar(b, frac, width=1, linewidth=1, edgecolor='#000000', color='#6691B4',alpha=1, label=\"Biko\")\n",
    "plt.bar(week, frac_week, width=1, linewidth=1, edgecolor='#000000', color='#6691B4',alpha=1, label=\"Biko\")\n",
    "plt.legend()\n",
    "xt = plt.xticks()[0]  \n",
    "xmin, xmax = min(xt), max(xt)  \n",
    "plt.xlim(0,25)\n",
    "plt.ylim(0,0.15)\n",
    "plt.xlabel(\"Weekday Departure time (hours)\",size=14)\n",
    "plt.ylabel(\"Density\",size=14)\n",
    "plt.tight_layout()\n",
    "\n",
    "######\n",
    "plt.subplot(2,2,4)\n",
    "# plt.bar(b, frac, width=1, linewidth=1, edgecolor='#000000', color='#6691B4',alpha=1, label=\"Biko\")\n",
    "plt.bar(weekend, frac_weekend, width=1, linewidth=1, edgecolor='#000000', color='#6691B4',alpha=1, label=\"Biko\")\n",
    "plt.legend()\n",
    "xt = plt.xticks()[0]  \n",
    "xmin, xmax = min(xt), max(xt)  \n",
    "plt.xlim(0,25)\n",
    "plt.ylim(0,0.15)\n",
    "plt.xlabel(\"Weekend Departure time (hours)\",size=14)\n",
    "plt.ylabel(\"Density\",size=14)\n",
    "plt.tight_layout()\n",
    "\n",
    "plt.savefig('./img/descriptive.png')"
   ]
  },
  {
   "cell_type": "markdown",
   "metadata": {},
   "source": [
    "# Fourth Part: Map Matching"
   ]
  },
  {
   "cell_type": "markdown",
   "metadata": {},
   "source": [
    "### Data preparation"
   ]
  },
  {
   "cell_type": "code",
   "execution_count": 52,
   "metadata": {},
   "outputs": [],
   "source": [
    "data_all=data[['date','activity_id','new_activity_id','user_id','altitude','stays','x1','y1']]"
   ]
  },
  {
   "cell_type": "code",
   "execution_count": 53,
   "metadata": {},
   "outputs": [
    {
     "data": {
      "text/plain": [
       "((1419217, 8), (1419217, 25))"
      ]
     },
     "execution_count": 53,
     "metadata": {},
     "output_type": "execute_result"
    }
   ],
   "source": [
    "# Delete points where the person is not moving\n",
    "data_all=data_all[data_all['stays']>0]\n",
    "data_all.shape,data.shape"
   ]
  },
  {
   "cell_type": "code",
   "execution_count": 54,
   "metadata": {},
   "outputs": [
    {
     "data": {
      "text/plain": [
       "4179"
      ]
     },
     "execution_count": 54,
     "metadata": {},
     "output_type": "execute_result"
    }
   ],
   "source": [
    "len(data_all.new_activity_id.unique())"
   ]
  },
  {
   "cell_type": "code",
   "execution_count": 55,
   "metadata": {},
   "outputs": [],
   "source": [
    "# Prepare the coordinates for the link\n",
    "data_all.loc[:,'coordinates_str']=(data_all['x1']).astype(str)+','+(data_all['y1']).astype(str)"
   ]
  },
  {
   "cell_type": "code",
   "execution_count": 56,
   "metadata": {},
   "outputs": [],
   "source": [
    "data_all.reset_index(inplace=True)"
   ]
  },
  {
   "cell_type": "markdown",
   "metadata": {},
   "source": [
    "### Calculate the delta time "
   ]
  },
  {
   "cell_type": "code",
   "execution_count": 58,
   "metadata": {},
   "outputs": [],
   "source": [
    "data_all.loc[:,'date_1']=data_all['date'].apply(lambda x: datetime.strptime(x,'%Y-%m-%dT%H:%M:%S'))"
   ]
  },
  {
   "cell_type": "code",
   "execution_count": 3,
   "metadata": {},
   "outputs": [],
   "source": [
    "# Sort the data to be in chronologycal order from the oldest to the newest date\n",
    "data.sort_values(['activity_id','date_1'],inplace=True)\n",
    "data.head()"
   ]
  },
  {
   "cell_type": "code",
   "execution_count": 60,
   "metadata": {},
   "outputs": [],
   "source": [
    "# function to calculate the delta seconds from the start of an activity id to each point recoded\n",
    "def total_second(arr):\n",
    "    return (arr-arr.min())"
   ]
  },
  {
   "cell_type": "code",
   "execution_count": 61,
   "metadata": {},
   "outputs": [],
   "source": [
    "# Use the total_seconds function to create a list\n",
    "cum= data[['date_1']].groupby(data['activity_id']).transform(total_second)"
   ]
  },
  {
   "cell_type": "code",
   "execution_count": 62,
   "metadata": {},
   "outputs": [],
   "source": [
    "cum.rename(columns={'date_1':'delta_seconds'},inplace=True)"
   ]
  },
  {
   "cell_type": "code",
   "execution_count": 63,
   "metadata": {},
   "outputs": [],
   "source": [
    "# Add a column where we see the seconds from the start of the trip\n",
    "merge=pd.merge(data_all,cum,left_on='index',right_index=True,how='left')"
   ]
  },
  {
   "cell_type": "code",
   "execution_count": 5,
   "metadata": {},
   "outputs": [],
   "source": [
    "# check that no duplicates were created\n",
    "merge.shape,data_all.shape"
   ]
  },
  {
   "cell_type": "code",
   "execution_count": 65,
   "metadata": {},
   "outputs": [],
   "source": [
    "merge.loc[:,'timestamp']=merge['delta_seconds'].apply(lambda x: str(int(x.total_seconds())))"
   ]
  },
  {
   "cell_type": "code",
   "execution_count": 66,
   "metadata": {},
   "outputs": [],
   "source": [
    "data_all=merge.copy()"
   ]
  },
  {
   "cell_type": "markdown",
   "metadata": {},
   "source": [
    "### Extract coordinates "
   ]
  },
  {
   "cell_type": "code",
   "execution_count": 207,
   "metadata": {},
   "outputs": [],
   "source": [
    "def extract_coordinates (data):\n",
    "    list_coordinates=data['coordinates_str'].tolist()\n",
    "    return ';'.join(list_coordinates)    "
   ]
  },
  {
   "cell_type": "code",
   "execution_count": 208,
   "metadata": {},
   "outputs": [],
   "source": [
    "def extract_times (data):\n",
    "    list_times=data['timestamp'].tolist()\n",
    "    return ';'.join(list_times)    "
   ]
  },
  {
   "cell_type": "markdown",
   "metadata": {},
   "source": [
    "### API Query\n",
    "Note: The online OSRM service allows map matching for the auto mode only. To allow other modes, a local version of the service has to be set. We followed this post to set our local version: https://github.com/Project-OSRM/osrm-backend/wiki/Running-OSRM"
   ]
  },
  {
   "cell_type": "code",
   "execution_count": 209,
   "metadata": {},
   "outputs": [],
   "source": [
    "def api_query(profile,coordinates,times):\n",
    "    url_base='http://localhost:5000/match/v1/' # link to make local queries \n",
    "    url=url_base+profile+'/'+coordinates+'?steps=false&geometries=polyline&overview=full&annotations=true&tidy=true&timestamps='+times\n",
    "    # Make the query\n",
    "    response = requests.get(url)\n",
    "    result=response.text\n",
    "    dict_result=json.loads(result)\n",
    "    return dict_result"
   ]
  },
  {
   "cell_type": "markdown",
   "metadata": {},
   "source": [
    "### Read Results"
   ]
  },
  {
   "cell_type": "code",
   "execution_count": 632,
   "metadata": {},
   "outputs": [],
   "source": [
    "def read_result(result,new_activity_id,i):\n",
    "    list_df=[]\n",
    "    tracepoints=pd.DataFrame(index=[list(range(len(result['tracepoints'])))],columns=[])\n",
    "    tracepoints.loc[:,'points']=result['tracepoints']\n",
    "    tracepoints.loc[:,'new_activity_id']=new_activity_id\n",
    "    tracepoints.loc[:,'repeat_num']=i\n",
    "    for match in range(len(result['matchings'])):\n",
    "        frame=pd.DataFrame(result['matchings'][match]['legs'])\n",
    "        frame.loc[:,'match']=match\n",
    "        frame.loc[:,'repeat_num']=i\n",
    "        frame.loc[:,'new_activity_id']=new_activity_id\n",
    "        frame.loc[:,'confidence']=result['matchings'][match]['confidence']\n",
    "        frame.loc[:,'code']=result['code']\n",
    "        list_df.append(frame)\n",
    "    dfs=pd.concat(list_df)\n",
    "    return dfs,tracepoints\n",
    "    "
   ]
  },
  {
   "cell_type": "markdown",
   "metadata": {},
   "source": [
    "### Table with each activity and node sequence"
   ]
  },
  {
   "cell_type": "code",
   "execution_count": 528,
   "metadata": {},
   "outputs": [],
   "source": [
    "profile='bicycle'\n",
    "map_match=pd.DataFrame(index=[],columns=['new_activity_id','legs','node_sequence','error'])\n",
    "idx=0\n",
    "# Limit is a variable with a function to stop querying from time to time, this was necessary when doing online queries.\n",
    "limit=100"
   ]
  },
  {
   "cell_type": "code",
   "execution_count": 531,
   "metadata": {
    "scrolled": false
   },
   "outputs": [],
   "source": [
    "idx=0\n",
    "dfs=[]\n",
    "tracepoints=[]\n",
    "for activity in data_all['new_activity_id'].unique():\n",
    "    # the program cannot handle more than a 100 points at the same time\n",
    "    repeat_number=np.ceil(len(data_all[data_all['new_activity_id']== activity])/100)\n",
    "    for i in range (1,int(repeat_number)+1):\n",
    "        # We divide the data in subsets of a 100 points so that the program does not crash\n",
    "        subset=data_all[data_all['new_activity_id']==activity].reset_index()[(i-1)*100:i*100]\n",
    "        list_coordinates=extract_coordinates(subset) \n",
    "        list_times=extract_times(subset) \n",
    "        result=api_query(profile,list_coordinates,list_times)        \n",
    "        if result['code']!='Ok':\n",
    "            map_match.loc[idx,'new_activity_id']=activity\n",
    "            map_match.loc[idx,'error']=1\n",
    "            map_match.loc[idx,'node_sequence']=result['code']\n",
    "            idx=idx+1\n",
    "        else:            \n",
    "            map_match=map_match.astype('object')\n",
    "            map_match.loc[idx,'new_activity_id']=activity\n",
    "            map_match.loc[idx,'error']=0\n",
    "            result_read=read_result(result,activity,i)\n",
    "            dfs.append(result_read[0])\n",
    "            tracepoints.append(result_read[1])\n",
    "            idx=idx+1\n",
    "            if idx==limit:\n",
    "                time.sleep(5)\n",
    "                limit=limit+100\n",
    "# Save the data after running\n",
    "tracepoints=pd.read_csv('tracepoints.csv')\n",
    "new=pd.concat(dfs)\n",
    "new.to_csv('matched.csv')"
   ]
  },
  {
   "cell_type": "code",
   "execution_count": 7,
   "metadata": {},
   "outputs": [],
   "source": [
    "# Reopen data\n",
    "new=pd.read_csv('matched.csv')"
   ]
  },
  {
   "cell_type": "code",
   "execution_count": 8,
   "metadata": {},
   "outputs": [],
   "source": [
    "# compare the unique activity id on the `new` dataframe so that we can know how many activities the OSRM was not able to locate\n",
    "len(new['new_activity_id'].unique())"
   ]
  },
  {
   "cell_type": "markdown",
   "metadata": {},
   "source": [
    "### Filter data and create the pairs"
   ]
  },
  {
   "cell_type": "code",
   "execution_count": 79,
   "metadata": {},
   "outputs": [],
   "source": [
    "new.reset_index(inplace=True)"
   ]
  },
  {
   "cell_type": "code",
   "execution_count": 80,
   "metadata": {},
   "outputs": [],
   "source": [
    "import ast"
   ]
  },
  {
   "cell_type": "code",
   "execution_count": 81,
   "metadata": {},
   "outputs": [],
   "source": [
    "new.loc[:,'nodes']=new['annotation'].apply(lambda x: ast.literal_eval(x)['nodes'])"
   ]
  },
  {
   "cell_type": "code",
   "execution_count": 82,
   "metadata": {},
   "outputs": [],
   "source": [
    "new.loc[:,'pairs']=new['nodes'].apply(lambda x: list(zip(x[0:-1],x[1:])))"
   ]
  },
  {
   "cell_type": "code",
   "execution_count": 83,
   "metadata": {},
   "outputs": [],
   "source": [
    "def unique_nodes(data):\n",
    "    list_list=data['pairs'].tolist()\n",
    "    flat_list=[y for x in list_list for y in x]\n",
    "    list_pairs=pd.Series(flat_list).unique()\n",
    "    return list_pairs\n",
    "# you can try both options\n",
    "# uniques=[list_nodes[0]]\n",
    "# for i in range(1,len(list_nodes)):\n",
    "#     if not list_nodes[i]==list_nodes[i-1]:\n",
    "#         uniques.append(list_nodes[i])"
   ]
  },
  {
   "cell_type": "code",
   "execution_count": 84,
   "metadata": {},
   "outputs": [],
   "source": [
    "# Need to keep with unique nodes since the OSRM may have repeated sequence of nodes from a trace to the other. \n",
    "df=pd.DataFrame(data=new.groupby(['new_activity_id','confidence'],sort=False).apply(unique_nodes))"
   ]
  },
  {
   "cell_type": "code",
   "execution_count": 85,
   "metadata": {},
   "outputs": [],
   "source": [
    "df.reset_index(inplace=True)"
   ]
  },
  {
   "cell_type": "code",
   "execution_count": 86,
   "metadata": {},
   "outputs": [],
   "source": [
    "# Edge sequence is the sequence of nodes a person is travelling through translated into an edge for future network analysis\n",
    "df.rename(columns={0:'edges_sequence'},inplace=True)"
   ]
  },
  {
   "cell_type": "code",
   "execution_count": 124,
   "metadata": {},
   "outputs": [],
   "source": [
    "list_edges=df['edges_sequence'].tolist()"
   ]
  },
  {
   "cell_type": "code",
   "execution_count": 125,
   "metadata": {},
   "outputs": [],
   "source": [
    "flat_list=[y for x in list_edges for y in x]"
   ]
  },
  {
   "cell_type": "code",
   "execution_count": 126,
   "metadata": {},
   "outputs": [],
   "source": [
    "# Create a network to get the weight for each edge. \n",
    "g = nx.DiGraph((x, y, {'weight': v}) for (x, y), v in Counter(flat_list).items())"
   ]
  },
  {
   "cell_type": "code",
   "execution_count": 127,
   "metadata": {},
   "outputs": [
    {
     "data": {
      "text/plain": [
       "840346.0"
      ]
     },
     "execution_count": 127,
     "metadata": {},
     "output_type": "execute_result"
    }
   ],
   "source": [
    "g.size(weight='weight')"
   ]
  },
  {
   "cell_type": "code",
   "execution_count": 128,
   "metadata": {},
   "outputs": [],
   "source": [
    "# Translate network to a df\n",
    "pairs=pd.DataFrame([[x, y, v] for (x, y), v in Counter(flat_list).items()])\n",
    "pairs.columns=['source','target','weight']"
   ]
  },
  {
   "cell_type": "code",
   "execution_count": 129,
   "metadata": {},
   "outputs": [
    {
     "data": {
      "text/plain": [
       "840346"
      ]
     },
     "execution_count": 129,
     "metadata": {},
     "output_type": "execute_result"
    }
   ],
   "source": [
    "pairs['weight'].sum()"
   ]
  },
  {
   "cell_type": "code",
   "execution_count": 130,
   "metadata": {},
   "outputs": [],
   "source": [
    "pairs.set_index('source',inplace=True)"
   ]
  },
  {
   "cell_type": "code",
   "execution_count": 132,
   "metadata": {},
   "outputs": [],
   "source": [
    "# Save pairs to csv\n",
    "pairs.to_csv('pairs.csv')"
   ]
  },
  {
   "cell_type": "markdown",
   "metadata": {},
   "source": [
    "### Network edges"
   ]
  },
  {
   "cell_type": "code",
   "execution_count": 133,
   "metadata": {},
   "outputs": [],
   "source": [
    "# Download the network to check how many people travelled through its links\n",
    "west=-74.3068778-0.01\n",
    "east=-73.9337932+0.01\n",
    "north=4.924683900000001+0.01\n",
    "south=4.4266025-0.01\n",
    "\n",
    "# create network from that bounding box\n",
    "G1 = ox.graph_from_bbox(north, south, east, west, network_type='all_private',simplify=False)\n",
    "df_g1=ox.graph_to_gdfs(G1, nodes=False)"
   ]
  },
  {
   "cell_type": "code",
   "execution_count": 134,
   "metadata": {},
   "outputs": [],
   "source": [
    "nodes_bog=pd.DataFrame(index=[],columns=['node_id'])\n",
    "nodes_bog.loc[:,'node_id']=list(G1)"
   ]
  },
  {
   "cell_type": "code",
   "execution_count": 135,
   "metadata": {},
   "outputs": [],
   "source": [
    "nodes_bog.loc[:,'lat']=nodes_bog['node_id'].apply(lambda x: G1.node[x]['y'])\n",
    "nodes_bog.loc[:,'lon']=nodes_bog['node_id'].apply(lambda x: G1.node[x]['x'])"
   ]
  },
  {
   "cell_type": "code",
   "execution_count": 136,
   "metadata": {},
   "outputs": [
    {
     "data": {
      "text/html": [
       "<div>\n",
       "<style scoped>\n",
       "    .dataframe tbody tr th:only-of-type {\n",
       "        vertical-align: middle;\n",
       "    }\n",
       "\n",
       "    .dataframe tbody tr th {\n",
       "        vertical-align: top;\n",
       "    }\n",
       "\n",
       "    .dataframe thead th {\n",
       "        text-align: right;\n",
       "    }\n",
       "</style>\n",
       "<table border=\"1\" class=\"dataframe\">\n",
       "  <thead>\n",
       "    <tr style=\"text-align: right;\">\n",
       "      <th></th>\n",
       "      <th>node_id</th>\n",
       "      <th>lat</th>\n",
       "      <th>lon</th>\n",
       "    </tr>\n",
       "  </thead>\n",
       "  <tbody>\n",
       "    <tr>\n",
       "      <th>0</th>\n",
       "      <td>1111282148</td>\n",
       "      <td>512157.519138</td>\n",
       "      <td>604398.927445</td>\n",
       "    </tr>\n",
       "    <tr>\n",
       "      <th>1</th>\n",
       "      <td>1111282149</td>\n",
       "      <td>512171.151775</td>\n",
       "      <td>604416.746714</td>\n",
       "    </tr>\n",
       "  </tbody>\n",
       "</table>\n",
       "</div>"
      ],
      "text/plain": [
       "      node_id            lat            lon\n",
       "0  1111282148  512157.519138  604398.927445\n",
       "1  1111282149  512171.151775  604416.746714"
      ]
     },
     "execution_count": 136,
     "metadata": {},
     "output_type": "execute_result"
    }
   ],
   "source": [
    "# Nodes bog have the nodes id and coordinate for a certain bbox\n",
    "nodes_bog.head(2)"
   ]
  },
  {
   "cell_type": "code",
   "execution_count": 137,
   "metadata": {},
   "outputs": [],
   "source": [
    "nodes_bog.rename(columns={'node_id':'id'}).set_index('id').to_csv('nodes_network_bike_.csv')"
   ]
  },
  {
   "cell_type": "code",
   "execution_count": 138,
   "metadata": {},
   "outputs": [],
   "source": [
    "lista=[]\n",
    "for line in nx.generate_edgelist(G1,data=False):\n",
    "    lista.append(line)"
   ]
  },
  {
   "cell_type": "code",
   "execution_count": 139,
   "metadata": {},
   "outputs": [],
   "source": [
    "df=pd.DataFrame(index=[list(range(len(lista)))],columns=['lista','source','target','pairs'])"
   ]
  },
  {
   "cell_type": "code",
   "execution_count": 140,
   "metadata": {},
   "outputs": [],
   "source": [
    "df.loc[:,'lista']=lista"
   ]
  },
  {
   "cell_type": "code",
   "execution_count": 141,
   "metadata": {},
   "outputs": [],
   "source": [
    "df.loc[:,'source']=df['lista'].apply(lambda x: str(x.split()[0]))\n",
    "df.loc[:,'target']=df['lista'].apply(lambda x: str(x.split()[1]))"
   ]
  },
  {
   "cell_type": "code",
   "execution_count": 142,
   "metadata": {},
   "outputs": [],
   "source": [
    "# invert origin and destination to represent two ways edges\n",
    "df.loc[:,'pairs']=df.apply(lambda row: ((row['source']),(row['target'])),axis=1)\n",
    "df.loc[:,'pairs_2']=df.apply(lambda row: ((row['target']),(row['source'])),axis=1)"
   ]
  },
  {
   "cell_type": "code",
   "execution_count": 144,
   "metadata": {},
   "outputs": [],
   "source": [
    "df.loc[:,'weight']=0"
   ]
  },
  {
   "cell_type": "code",
   "execution_count": 145,
   "metadata": {},
   "outputs": [],
   "source": [
    "df.drop('lista',axis=1,inplace=True)"
   ]
  },
  {
   "cell_type": "code",
   "execution_count": 148,
   "metadata": {},
   "outputs": [],
   "source": [
    "pairs.reset_index(inplace=True)"
   ]
  },
  {
   "cell_type": "code",
   "execution_count": 149,
   "metadata": {},
   "outputs": [],
   "source": [
    "pairs.loc[:,'source']=pairs['source'].astype('str')\n",
    "pairs.loc[:,'target']=pairs['target'].astype('str')"
   ]
  },
  {
   "cell_type": "code",
   "execution_count": 150,
   "metadata": {},
   "outputs": [],
   "source": [
    "pairs.loc[:,'pairs']=pairs.apply(lambda row: ((row['source']),(row['target'])),axis=1)"
   ]
  },
  {
   "cell_type": "code",
   "execution_count": 151,
   "metadata": {},
   "outputs": [],
   "source": [
    "merge=pd.merge(df,pairs[['pairs','weight']],left_on='pairs',right_on='pairs',how='left')"
   ]
  },
  {
   "cell_type": "code",
   "execution_count": 153,
   "metadata": {},
   "outputs": [],
   "source": [
    "pairs_notfound=pairs[~pairs['pairs'].isin(merge[merge['weight'].notnull()]['pairs'].tolist())]"
   ]
  },
  {
   "cell_type": "code",
   "execution_count": 155,
   "metadata": {},
   "outputs": [],
   "source": [
    "merge.drop(['lista'],axis=1,inplace=True)"
   ]
  },
  {
   "cell_type": "code",
   "execution_count": 156,
   "metadata": {},
   "outputs": [
    {
     "data": {
      "text/html": [
       "<div>\n",
       "<style scoped>\n",
       "    .dataframe tbody tr th:only-of-type {\n",
       "        vertical-align: middle;\n",
       "    }\n",
       "\n",
       "    .dataframe tbody tr th {\n",
       "        vertical-align: top;\n",
       "    }\n",
       "\n",
       "    .dataframe thead th {\n",
       "        text-align: right;\n",
       "    }\n",
       "</style>\n",
       "<table border=\"1\" class=\"dataframe\">\n",
       "  <thead>\n",
       "    <tr style=\"text-align: right;\">\n",
       "      <th></th>\n",
       "      <th>source</th>\n",
       "      <th>target</th>\n",
       "      <th>pairs</th>\n",
       "      <th>pairs_2</th>\n",
       "      <th>weight</th>\n",
       "    </tr>\n",
       "  </thead>\n",
       "  <tbody>\n",
       "    <tr>\n",
       "      <th>0</th>\n",
       "      <td>1111282148</td>\n",
       "      <td>1927389468</td>\n",
       "      <td>(1111282148, 1927389468)</td>\n",
       "      <td>(1927389468, 1111282148)</td>\n",
       "      <td>NaN</td>\n",
       "    </tr>\n",
       "    <tr>\n",
       "      <th>1</th>\n",
       "      <td>1111282148</td>\n",
       "      <td>5643183061</td>\n",
       "      <td>(1111282148, 5643183061)</td>\n",
       "      <td>(5643183061, 1111282148)</td>\n",
       "      <td>NaN</td>\n",
       "    </tr>\n",
       "  </tbody>\n",
       "</table>\n",
       "</div>"
      ],
      "text/plain": [
       "       source      target                     pairs                   pairs_2  \\\n",
       "0  1111282148  1927389468  (1111282148, 1927389468)  (1927389468, 1111282148)   \n",
       "1  1111282148  5643183061  (1111282148, 5643183061)  (5643183061, 1111282148)   \n",
       "\n",
       "   weight  \n",
       "0     NaN  \n",
       "1     NaN  "
      ]
     },
     "execution_count": 156,
     "metadata": {},
     "output_type": "execute_result"
    }
   ],
   "source": [
    "merge.head(2)"
   ]
  },
  {
   "cell_type": "code",
   "execution_count": 157,
   "metadata": {},
   "outputs": [],
   "source": [
    "swap_od=pd.merge(merge,pairs_notfound[['pairs','weight']],left_on='pairs_2',right_on='pairs',how='left')"
   ]
  },
  {
   "cell_type": "code",
   "execution_count": 158,
   "metadata": {},
   "outputs": [
    {
     "data": {
      "text/plain": [
       "(126758, 4)"
      ]
     },
     "execution_count": 158,
     "metadata": {},
     "output_type": "execute_result"
    }
   ],
   "source": [
    "pairs_notfound2=pairs[(~pairs['pairs'].isin(df['pairs'].tolist()))&(~pairs['pairs'].isin(df['pairs_2'].tolist()))]"
   ]
  },
  {
   "cell_type": "code",
   "execution_count": 159,
   "metadata": {},
   "outputs": [],
   "source": [
    "swap_od['weight_x'].fillna(0,inplace=True)\n",
    "swap_od['weight_y'].fillna(0,inplace=True)\n",
    "swap_od['weight_raw']=swap_od['weight_x']+swap_od['weight_y']"
   ]
  },
  {
   "cell_type": "code",
   "execution_count": 160,
   "metadata": {},
   "outputs": [
    {
     "data": {
      "text/plain": [
       "297515.0"
      ]
     },
     "execution_count": 160,
     "metadata": {},
     "output_type": "execute_result"
    }
   ],
   "source": [
    "# This is the amount of links we have, from now on, we are going to add one weight to be able to draw the entire network\n",
    "swap_od['weight_raw'].sum()"
   ]
  },
  {
   "cell_type": "code",
   "execution_count": 161,
   "metadata": {},
   "outputs": [
    {
     "data": {
      "text/plain": [
       "297515"
      ]
     },
     "execution_count": 161,
     "metadata": {},
     "output_type": "execute_result"
    }
   ],
   "source": [
    "# check we had assigned all the links to the network or the not_found group\n",
    "pairs['weight'].sum()-pairs_notfound2['weight'].sum()"
   ]
  },
  {
   "cell_type": "code",
   "execution_count": 162,
   "metadata": {},
   "outputs": [
    {
     "data": {
      "text/plain": [
       "375138.0"
      ]
     },
     "execution_count": 162,
     "metadata": {},
     "output_type": "execute_result"
    }
   ],
   "source": [
    "swap_od['weight']=swap_od['weight_raw']+1\n",
    "swap_od['weight'].sum()"
   ]
  },
  {
   "cell_type": "code",
   "execution_count": null,
   "metadata": {},
   "outputs": [],
   "source": [
    "swap_od[['source','target','weight']].set_index('source').to_csv('network_with_flow.csv')"
   ]
  },
  {
   "cell_type": "code",
   "execution_count": null,
   "metadata": {},
   "outputs": [],
   "source": []
  }
 ],
 "metadata": {
  "kernelspec": {
   "display_name": "Python 3",
   "language": "python",
   "name": "python3"
  },
  "language_info": {
   "codemirror_mode": {
    "name": "ipython",
    "version": 3
   },
   "file_extension": ".py",
   "mimetype": "text/x-python",
   "name": "python",
   "nbconvert_exporter": "python",
   "pygments_lexer": "ipython3",
   "version": "3.6.10"
  }
 },
 "nbformat": 4,
 "nbformat_minor": 2
}
