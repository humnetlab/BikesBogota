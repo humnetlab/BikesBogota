{
 "cells": [
  {
   "cell_type": "markdown",
   "metadata": {},
   "source": [
    "# Introduction\n",
    "This notebook was created to calculate the shortest path between nodes from the CDR generated OD for Bogota"
   ]
  },
  {
   "cell_type": "code",
   "execution_count": 1,
   "metadata": {},
   "outputs": [],
   "source": [
    "import math\n",
    "import pandas as pd\n",
    "import networkx as nx\n",
    "import osmnx as ox\n",
    "import requests\n",
    "import json \n",
    "from collections import Counter"
   ]
  },
  {
   "cell_type": "markdown",
   "metadata": {},
   "source": [
    "# Import and format data\n",
    "Here we use the ODs from our potential demand, i.e. the resultinf ODs after applying the rejection-sampling algorithm on the original ODs."
   ]
  },
  {
   "cell_type": "code",
   "execution_count": 2,
   "metadata": {},
   "outputs": [],
   "source": [
    "# These are ourODs after Rejection-Sampling method\n",
    "nodes=pd.read_csv('nodes_all_trips.csv')\n",
    "links=pd.read_csv('links_after_rejection.csv')"
   ]
  },
  {
   "cell_type": "code",
   "execution_count": 3,
   "metadata": {},
   "outputs": [
    {
     "data": {
      "text/html": [
       "<div>\n",
       "<style scoped>\n",
       "    .dataframe tbody tr th:only-of-type {\n",
       "        vertical-align: middle;\n",
       "    }\n",
       "\n",
       "    .dataframe tbody tr th {\n",
       "        vertical-align: top;\n",
       "    }\n",
       "\n",
       "    .dataframe thead th {\n",
       "        text-align: right;\n",
       "    }\n",
       "</style>\n",
       "<table border=\"1\" class=\"dataframe\">\n",
       "  <thead>\n",
       "    <tr style=\"text-align: right;\">\n",
       "      <th></th>\n",
       "      <th>id</th>\n",
       "      <th>Label</th>\n",
       "      <th>income_level</th>\n",
       "      <th>wstrato</th>\n",
       "      <th>pop</th>\n",
       "      <th>Longitude</th>\n",
       "      <th>Latitude</th>\n",
       "    </tr>\n",
       "  </thead>\n",
       "  <tbody>\n",
       "    <tr>\n",
       "      <th>0</th>\n",
       "      <td>1.0</td>\n",
       "      <td>1.0</td>\n",
       "      <td>2.0</td>\n",
       "      <td>3.000000</td>\n",
       "      <td>17197.0</td>\n",
       "      <td>-74.1205</td>\n",
       "      <td>4.61808</td>\n",
       "    </tr>\n",
       "    <tr>\n",
       "      <th>1</th>\n",
       "      <td>2.0</td>\n",
       "      <td>2.0</td>\n",
       "      <td>1.0</td>\n",
       "      <td>1.860132</td>\n",
       "      <td>24609.0</td>\n",
       "      <td>-74.1327</td>\n",
       "      <td>4.56084</td>\n",
       "    </tr>\n",
       "  </tbody>\n",
       "</table>\n",
       "</div>"
      ],
      "text/plain": [
       "    id  Label  income_level   wstrato      pop  Longitude  Latitude\n",
       "0  1.0    1.0           2.0  3.000000  17197.0   -74.1205   4.61808\n",
       "1  2.0    2.0           1.0  1.860132  24609.0   -74.1327   4.56084"
      ]
     },
     "execution_count": 3,
     "metadata": {},
     "output_type": "execute_result"
    }
   ],
   "source": [
    "nodes.head(2)"
   ]
  },
  {
   "cell_type": "code",
   "execution_count": 4,
   "metadata": {},
   "outputs": [
    {
     "data": {
      "text/html": [
       "<div>\n",
       "<style scoped>\n",
       "    .dataframe tbody tr th:only-of-type {\n",
       "        vertical-align: middle;\n",
       "    }\n",
       "\n",
       "    .dataframe tbody tr th {\n",
       "        vertical-align: top;\n",
       "    }\n",
       "\n",
       "    .dataframe thead th {\n",
       "        text-align: right;\n",
       "    }\n",
       "</style>\n",
       "<table border=\"1\" class=\"dataframe\">\n",
       "  <thead>\n",
       "    <tr style=\"text-align: right;\">\n",
       "      <th></th>\n",
       "      <th>Source</th>\n",
       "      <th>Target</th>\n",
       "      <th>Weight</th>\n",
       "      <th>income_level</th>\n",
       "      <th>wstrato_o</th>\n",
       "      <th>Type</th>\n",
       "    </tr>\n",
       "  </thead>\n",
       "  <tbody>\n",
       "    <tr>\n",
       "      <th>0</th>\n",
       "      <td>265.0</td>\n",
       "      <td>455.0</td>\n",
       "      <td>28.228165</td>\n",
       "      <td>1.0</td>\n",
       "      <td>2.0</td>\n",
       "      <td>Directed</td>\n",
       "    </tr>\n",
       "    <tr>\n",
       "      <th>1</th>\n",
       "      <td>448.0</td>\n",
       "      <td>455.0</td>\n",
       "      <td>24.726087</td>\n",
       "      <td>2.0</td>\n",
       "      <td>3.0</td>\n",
       "      <td>Directed</td>\n",
       "    </tr>\n",
       "  </tbody>\n",
       "</table>\n",
       "</div>"
      ],
      "text/plain": [
       "   Source  Target     Weight  income_level  wstrato_o      Type\n",
       "0   265.0   455.0  28.228165           1.0        2.0  Directed\n",
       "1   448.0   455.0  24.726087           2.0        3.0  Directed"
      ]
     },
     "execution_count": 4,
     "metadata": {},
     "output_type": "execute_result"
    }
   ],
   "source": [
    "links.head(2)"
   ]
  },
  {
   "cell_type": "code",
   "execution_count": 5,
   "metadata": {},
   "outputs": [],
   "source": [
    "# Add lat and long to the links origin and destination by merging table\n",
    "merge_source=pd.merge(links,nodes[['id','Latitude','Longitude']],left_on='Source',right_on='id',how='left')"
   ]
  },
  {
   "cell_type": "code",
   "execution_count": 6,
   "metadata": {},
   "outputs": [],
   "source": [
    "merge_source.rename(columns={'Latitude': 'source_lat', 'Longitude': 'source_lon'},inplace=True)"
   ]
  },
  {
   "cell_type": "code",
   "execution_count": 7,
   "metadata": {},
   "outputs": [],
   "source": [
    "merge_target=pd.merge(merge_source,nodes[['id','Latitude','Longitude']],left_on='Target',right_on='id',how='left')"
   ]
  },
  {
   "cell_type": "code",
   "execution_count": 8,
   "metadata": {},
   "outputs": [],
   "source": [
    "merge_target.rename(columns={'Latitude': 'target_lat', 'Longitude': 'target_lon'},inplace=True)"
   ]
  },
  {
   "cell_type": "code",
   "execution_count": 9,
   "metadata": {},
   "outputs": [],
   "source": [
    "links=merge_target.drop(['id_x','id_y'],axis=1)"
   ]
  },
  {
   "cell_type": "code",
   "execution_count": 10,
   "metadata": {},
   "outputs": [
    {
     "data": {
      "text/html": [
       "<div>\n",
       "<style scoped>\n",
       "    .dataframe tbody tr th:only-of-type {\n",
       "        vertical-align: middle;\n",
       "    }\n",
       "\n",
       "    .dataframe tbody tr th {\n",
       "        vertical-align: top;\n",
       "    }\n",
       "\n",
       "    .dataframe thead th {\n",
       "        text-align: right;\n",
       "    }\n",
       "</style>\n",
       "<table border=\"1\" class=\"dataframe\">\n",
       "  <thead>\n",
       "    <tr style=\"text-align: right;\">\n",
       "      <th></th>\n",
       "      <th>Source</th>\n",
       "      <th>Target</th>\n",
       "      <th>Weight</th>\n",
       "      <th>income_level</th>\n",
       "      <th>wstrato_o</th>\n",
       "      <th>Type</th>\n",
       "      <th>source_lat</th>\n",
       "      <th>source_lon</th>\n",
       "      <th>target_lat</th>\n",
       "      <th>target_lon</th>\n",
       "    </tr>\n",
       "  </thead>\n",
       "  <tbody>\n",
       "    <tr>\n",
       "      <th>0</th>\n",
       "      <td>265.0</td>\n",
       "      <td>455.0</td>\n",
       "      <td>28.228165</td>\n",
       "      <td>1.0</td>\n",
       "      <td>2.0</td>\n",
       "      <td>Directed</td>\n",
       "      <td>4.73042</td>\n",
       "      <td>-74.1060</td>\n",
       "      <td>4.61034</td>\n",
       "      <td>-74.0704</td>\n",
       "    </tr>\n",
       "    <tr>\n",
       "      <th>1</th>\n",
       "      <td>448.0</td>\n",
       "      <td>455.0</td>\n",
       "      <td>24.726087</td>\n",
       "      <td>2.0</td>\n",
       "      <td>3.0</td>\n",
       "      <td>Directed</td>\n",
       "      <td>4.60370</td>\n",
       "      <td>-74.0725</td>\n",
       "      <td>4.61034</td>\n",
       "      <td>-74.0704</td>\n",
       "    </tr>\n",
       "  </tbody>\n",
       "</table>\n",
       "</div>"
      ],
      "text/plain": [
       "   Source  Target     Weight  income_level  wstrato_o      Type  source_lat  \\\n",
       "0   265.0   455.0  28.228165           1.0        2.0  Directed     4.73042   \n",
       "1   448.0   455.0  24.726087           2.0        3.0  Directed     4.60370   \n",
       "\n",
       "   source_lon  target_lat  target_lon  \n",
       "0    -74.1060     4.61034    -74.0704  \n",
       "1    -74.0725     4.61034    -74.0704  "
      ]
     },
     "execution_count": 10,
     "metadata": {},
     "output_type": "execute_result"
    }
   ],
   "source": [
    "links.head(2)"
   ]
  },
  {
   "cell_type": "code",
   "execution_count": 11,
   "metadata": {},
   "outputs": [],
   "source": [
    "# Prepare the data for the query\n",
    "links.loc[:,'coordinates_o_d']=links['source_lon'].astype('str')+','+links['source_lat'].astype('str')+';'+\\\n",
    "                               links['target_lon'].astype('str')+','+links['target_lat'].astype('str')"
   ]
  },
  {
   "cell_type": "markdown",
   "metadata": {},
   "source": [
    "# Routing\n",
    "Here we route the trips using Open Source Routing Machine (OSRM) project, an open{source efficient routing\n",
    "software, and also configurable and extensible. For documentation, please see http://project-osrm.org/docs/v5.22.0/api/#stepmaneuver-object\n",
    "\n",
    "Specifically we use OSRM-backend, thus we use Docker. Here two link for installation adn documentation purposes:\n",
    "https://hub.docker.com/r/osrm/osrm-backend/\n",
    "https://github.com/Project-OSRM/osrm-backend\n"
   ]
  },
  {
   "cell_type": "code",
   "execution_count": 18,
   "metadata": {
    "scrolled": false
   },
   "outputs": [],
   "source": [
    "def api_query(profile,coordinates):\n",
    "    # url_base='http://router.project-osrm.org/route/v1/' \n",
    "    #Docker needs to be running before use this function\n",
    "    url_base='http://localhost:5000/route/v1/'\n",
    "    url=url_base+profile+'/'+coordinates+'?steps=false&geometries=polyline&overview=full&annotations=true'\n",
    "    # Make the query\n",
    "    response = requests.get(url)\n",
    "    result=response.text\n",
    "    dict_result=json.loads(result)\n",
    "    return dict_result"
   ]
  },
  {
   "cell_type": "code",
   "execution_count": 19,
   "metadata": {},
   "outputs": [],
   "source": [
    "def read_result(result):\n",
    "    nodes=[]\n",
    "    legs=result['routes'][0]['legs']\n",
    "    for leg in range(len(legs)):\n",
    "        nodes.append(legs[leg]['annotation']['nodes'])\n",
    "        flat_list=[y for x in nodes for y in x]\n",
    "    return flat_list"
   ]
  },
  {
   "cell_type": "code",
   "execution_count": 28,
   "metadata": {},
   "outputs": [],
   "source": [
    "#Set the profile (cars,bicycle of walk) or your own profile, you can modified the .lua files of the previous mentioned profile\n",
    "profile='bicycle'\n",
    "for index,row in links.iterrows():\n",
    "    result=api_query(profile,row['coordinates_o_d'])\n",
    "    list_nodes=read_result(result)\n",
    "    # Need to fix the object part\n",
    "    links=links.astype('object')\n",
    "    links.loc[index,'nodes']=list_nodes\n",
    "    links.loc[index,'distance']=result['routes'][0]['distance']"
   ]
  },
  {
   "cell_type": "code",
   "execution_count": 32,
   "metadata": {},
   "outputs": [],
   "source": [
    "links.to_csv('latent_demand_p_bikes.csv')"
   ]
  },
  {
   "cell_type": "markdown",
   "metadata": {},
   "source": [
    "# Building the flow network"
   ]
  },
  {
   "cell_type": "code",
   "execution_count": 2,
   "metadata": {},
   "outputs": [],
   "source": [
    "#load the routes for all OD pairs\n",
    "links=pd.read_csv('latent_demand_p_bikes.csv')"
   ]
  },
  {
   "cell_type": "code",
   "execution_count": 3,
   "metadata": {},
   "outputs": [],
   "source": [
    "links.loc[:,'node_seq']=links['nodes'].apply(lambda x: list(x[1:-1].split(', ')))"
   ]
  },
  {
   "cell_type": "code",
   "execution_count": 4,
   "metadata": {},
   "outputs": [],
   "source": [
    "# Function to calculate distance\n",
    "def calculate_dist (lat_1,lat_2,lon_1,lon_2):\n",
    "    if (math.isnan(lat_1)|math.isnan(lat_2)|math.isnan(lon_1)|math.isnan(lon_2)):\n",
    "         return float('nan')         \n",
    "    elif ((lat_1==lat_2)&(lon_1==lon_2)):\n",
    "        dist=0.0\n",
    "    else:\n",
    "        \n",
    "        R_aver = 6374;\n",
    "        lat_1 = math.radians(lat_1)\n",
    "        lon_1 = math.radians(lon_1)\n",
    "        lat_2 = math.radians(lat_2)\n",
    "        lon_2 = math.radians(lon_2)\n",
    "        dist = R_aver * math.acos(math.cos(lat_1)*math.cos(lat_2)*math.cos(lon_1-lon_2) + math.sin(lat_1)*math.sin(lat_2));\n",
    "    return dist*1000"
   ]
  },
  {
   "cell_type": "code",
   "execution_count": 5,
   "metadata": {},
   "outputs": [],
   "source": [
    "links.loc[:,'euclidean_dist']=links.apply(lambda row: calculate_dist(row['source_lat'],row['target_lat'],\\\n",
    "                                row['source_lon'],row['target_lon']),axis=1)/1000"
   ]
  },
  {
   "cell_type": "code",
   "execution_count": 6,
   "metadata": {},
   "outputs": [],
   "source": [
    "# Create the pairs, nodes from every link\n",
    "links.loc[:,'pairs']=links['node_seq'].apply(lambda x: list(zip(x[0:-1],x[1:])))"
   ]
  },
  {
   "cell_type": "code",
   "execution_count": 7,
   "metadata": {},
   "outputs": [],
   "source": [
    "# Filter the data\n",
    "links=links[(links['distance']<=10000)&(links['Weight']>=25)]"
   ]
  },
  {
   "cell_type": "code",
   "execution_count": 8,
   "metadata": {},
   "outputs": [],
   "source": [
    "list_list=links['pairs'].tolist()\n",
    "flat_list=[y for x in list_list for y in x]"
   ]
  },
  {
   "cell_type": "code",
   "execution_count": 9,
   "metadata": {},
   "outputs": [],
   "source": [
    "#build the network\n",
    "g = nx.DiGraph((x, y, {'weight': v}) for (x, y), v in Counter(flat_list).items())"
   ]
  },
  {
   "cell_type": "code",
   "execution_count": 10,
   "metadata": {},
   "outputs": [],
   "source": [
    "pairs=pd.DataFrame([[x, y, v] for (x, y), v in Counter(flat_list).items()])\n",
    "pairs.columns=['source','target','weight']"
   ]
  },
  {
   "cell_type": "code",
   "execution_count": 11,
   "metadata": {},
   "outputs": [],
   "source": [
    "pairs.set_index('source',inplace=True)"
   ]
  },
  {
   "cell_type": "code",
   "execution_count": 12,
   "metadata": {},
   "outputs": [
    {
     "data": {
      "text/plain": [
       "(93781, 2)"
      ]
     },
     "execution_count": 12,
     "metadata": {},
     "output_type": "execute_result"
    }
   ],
   "source": [
    "pairs.shape"
   ]
  },
  {
   "cell_type": "code",
   "execution_count": 13,
   "metadata": {},
   "outputs": [
    {
     "data": {
      "text/html": [
       "<div>\n",
       "<style scoped>\n",
       "    .dataframe tbody tr th:only-of-type {\n",
       "        vertical-align: middle;\n",
       "    }\n",
       "\n",
       "    .dataframe tbody tr th {\n",
       "        vertical-align: top;\n",
       "    }\n",
       "\n",
       "    .dataframe thead th {\n",
       "        text-align: right;\n",
       "    }\n",
       "</style>\n",
       "<table border=\"1\" class=\"dataframe\">\n",
       "  <thead>\n",
       "    <tr style=\"text-align: right;\">\n",
       "      <th></th>\n",
       "      <th>target</th>\n",
       "      <th>weight</th>\n",
       "    </tr>\n",
       "    <tr>\n",
       "      <th>source</th>\n",
       "      <th></th>\n",
       "      <th></th>\n",
       "    </tr>\n",
       "  </thead>\n",
       "  <tbody>\n",
       "    <tr>\n",
       "      <th>267021465</th>\n",
       "      <td>5750230778</td>\n",
       "      <td>21</td>\n",
       "    </tr>\n",
       "    <tr>\n",
       "      <th>5750230778</th>\n",
       "      <td>267021464</td>\n",
       "      <td>21</td>\n",
       "    </tr>\n",
       "  </tbody>\n",
       "</table>\n",
       "</div>"
      ],
      "text/plain": [
       "                target  weight\n",
       "source                        \n",
       "267021465   5750230778      21\n",
       "5750230778   267021464      21"
      ]
     },
     "execution_count": 13,
     "metadata": {},
     "output_type": "execute_result"
    }
   ],
   "source": [
    "pairs.head(2)"
   ]
  },
  {
   "cell_type": "code",
   "execution_count": 14,
   "metadata": {},
   "outputs": [
    {
     "data": {
      "text/plain": [
       "count    93781.000000\n",
       "mean        12.306032\n",
       "std         15.350052\n",
       "min          1.000000\n",
       "25%          3.000000\n",
       "50%          7.000000\n",
       "75%         16.000000\n",
       "max        197.000000\n",
       "Name: weight, dtype: float64"
      ]
     },
     "execution_count": 14,
     "metadata": {},
     "output_type": "execute_result"
    }
   ],
   "source": [
    "pairs['weight'].describe()"
   ]
  },
  {
   "cell_type": "markdown",
   "metadata": {},
   "source": [
    "### Get the nodes coordinates from OSM"
   ]
  },
  {
   "cell_type": "code",
   "execution_count": 17,
   "metadata": {},
   "outputs": [],
   "source": [
    "# Get lat and lon of all nodes to set the bbox\n",
    "y=links['source_lat'].tolist()\n",
    "for elem in links['target_lat'].tolist():\n",
    "    y.append(elem)\n",
    "x=links['source_lon'].tolist()\n",
    "for elem in links['target_lon'].tolist():\n",
    "    x.append(elem)    "
   ]
  },
  {
   "cell_type": "code",
   "execution_count": 18,
   "metadata": {},
   "outputs": [
    {
     "data": {
      "text/plain": [
       "(-74.217, -74.0144, 4.82472, 4.48311)"
      ]
     },
     "execution_count": 18,
     "metadata": {},
     "output_type": "execute_result"
    }
   ],
   "source": [
    "west=min(x)-0.01\n",
    "east=max(x)+0.01\n",
    "north=max(y)+0.01\n",
    "south=min(y)-0.01\n",
    "west,east,north,south"
   ]
  },
  {
   "cell_type": "code",
   "execution_count": 19,
   "metadata": {},
   "outputs": [],
   "source": [
    "# create network from that bounding box\n",
    "# all_private - download all OSM streets and paths, including private-access ones (from documentation)\n",
    "G1 = ox.graph_from_bbox(north, south, east, west, network_type='all_private',simplify=False)"
   ]
  },
  {
   "cell_type": "code",
   "execution_count": 54,
   "metadata": {},
   "outputs": [],
   "source": [
    "nodes_bog=pd.DataFrame(index=[],columns=['node_id'])\n",
    "nodes_bog.loc[:,'node_id']=list(G1)"
   ]
  },
  {
   "cell_type": "code",
   "execution_count": 55,
   "metadata": {},
   "outputs": [],
   "source": [
    "nodes_bog.loc[:,'lat']=nodes_bog['node_id'].apply(lambda x: G1.node[x]['y'])\n",
    "nodes_bog.loc[:,'lon']=nodes_bog['node_id'].apply(lambda x: G1.node[x]['x'])"
   ]
  },
  {
   "cell_type": "code",
   "execution_count": 94,
   "metadata": {},
   "outputs": [
    {
     "data": {
      "text/html": [
       "<div>\n",
       "<style scoped>\n",
       "    .dataframe tbody tr th:only-of-type {\n",
       "        vertical-align: middle;\n",
       "    }\n",
       "\n",
       "    .dataframe tbody tr th {\n",
       "        vertical-align: top;\n",
       "    }\n",
       "\n",
       "    .dataframe thead th {\n",
       "        text-align: right;\n",
       "    }\n",
       "</style>\n",
       "<table border=\"1\" class=\"dataframe\">\n",
       "  <thead>\n",
       "    <tr style=\"text-align: right;\">\n",
       "      <th></th>\n",
       "      <th>node_id</th>\n",
       "      <th>lat</th>\n",
       "      <th>lon</th>\n",
       "    </tr>\n",
       "  </thead>\n",
       "  <tbody>\n",
       "    <tr>\n",
       "      <th>0</th>\n",
       "      <td>4687304058</td>\n",
       "      <td>4.555589</td>\n",
       "      <td>-74.097681</td>\n",
       "    </tr>\n",
       "    <tr>\n",
       "      <th>1</th>\n",
       "      <td>4687304059</td>\n",
       "      <td>4.555606</td>\n",
       "      <td>-74.097673</td>\n",
       "    </tr>\n",
       "  </tbody>\n",
       "</table>\n",
       "</div>"
      ],
      "text/plain": [
       "      node_id       lat        lon\n",
       "0  4687304058  4.555589 -74.097681\n",
       "1  4687304059  4.555606 -74.097673"
      ]
     },
     "execution_count": 94,
     "metadata": {},
     "output_type": "execute_result"
    }
   ],
   "source": [
    "# Nodes bog have the nodes id and coordinate for a certain bbox\n",
    "nodes_bog.head(2)"
   ]
  },
  {
   "cell_type": "code",
   "execution_count": 95,
   "metadata": {},
   "outputs": [],
   "source": [
    "nodes_bog.rename(columns={'node_id':'id'}).set_index('id').to_csv('nodes_latent_bike.csv')"
   ]
  },
  {
   "cell_type": "markdown",
   "metadata": {},
   "source": [
    "Get node lat and lon for the pairs"
   ]
  },
  {
   "cell_type": "code",
   "execution_count": 58,
   "metadata": {},
   "outputs": [],
   "source": [
    "pairs.reset_index(inplace=True)"
   ]
  },
  {
   "cell_type": "code",
   "execution_count": 59,
   "metadata": {},
   "outputs": [],
   "source": [
    "# Nodes from the pairs\n",
    "all_nodes=pairs['source'].tolist()\n",
    "for elem in pairs['target'].tolist():\n",
    "    all_nodes.append(elem)"
   ]
  },
  {
   "cell_type": "code",
   "execution_count": 60,
   "metadata": {},
   "outputs": [],
   "source": [
    "unique_nodes=list(set(all_nodes))"
   ]
  },
  {
   "cell_type": "code",
   "execution_count": 61,
   "metadata": {},
   "outputs": [],
   "source": [
    "series=pd.Series(unique_nodes)\n",
    "df_nodes=series.reset_index()\n",
    "df_nodes.rename(columns={0:'node_id'},inplace=True)\n",
    "df_nodes.loc[:,'node_id']=df_nodes['node_id'].astype('str')"
   ]
  },
  {
   "cell_type": "code",
   "execution_count": 62,
   "metadata": {},
   "outputs": [],
   "source": [
    "# make the ids the same data type for the merge\n",
    "nodes_bog.loc[:,'node_id']=nodes_bog['node_id'].astype('str')"
   ]
  },
  {
   "cell_type": "code",
   "execution_count": 63,
   "metadata": {},
   "outputs": [],
   "source": [
    "merged=pd.merge(df_nodes,nodes_bog,left_on='node_id',right_on='node_id',how='left')"
   ]
  },
  {
   "cell_type": "code",
   "execution_count": 64,
   "metadata": {},
   "outputs": [
    {
     "data": {
      "text/plain": [
       "(82, 4)"
      ]
     },
     "execution_count": 64,
     "metadata": {},
     "output_type": "execute_result"
    }
   ],
   "source": [
    "# Check wether a node was left outside\n",
    "merged[merged['lat'].isnull()].shape"
   ]
  },
  {
   "cell_type": "markdown",
   "metadata": {},
   "source": [
    "### Get the nodes that do not have lat and lon"
   ]
  },
  {
   "cell_type": "code",
   "execution_count": 101,
   "metadata": {},
   "outputs": [],
   "source": [
    "def api(node):\n",
    "    response = requests.get('http://api.openstreetmap.org/api/0.6/node/'+str(node))\n",
    "    result=response.text\n",
    "    return result    "
   ]
  },
  {
   "cell_type": "code",
   "execution_count": 118,
   "metadata": {},
   "outputs": [
    {
     "data": {
      "text/html": [
       "<div>\n",
       "<style scoped>\n",
       "    .dataframe tbody tr th:only-of-type {\n",
       "        vertical-align: middle;\n",
       "    }\n",
       "\n",
       "    .dataframe tbody tr th {\n",
       "        vertical-align: top;\n",
       "    }\n",
       "\n",
       "    .dataframe thead th {\n",
       "        text-align: right;\n",
       "    }\n",
       "</style>\n",
       "<table border=\"1\" class=\"dataframe\">\n",
       "  <thead>\n",
       "    <tr style=\"text-align: right;\">\n",
       "      <th></th>\n",
       "      <th>index</th>\n",
       "      <th>node_id</th>\n",
       "      <th>lat</th>\n",
       "      <th>lon</th>\n",
       "    </tr>\n",
       "  </thead>\n",
       "  <tbody>\n",
       "    <tr>\n",
       "      <th>50941</th>\n",
       "      <td>50941</td>\n",
       "      <td>5220256902</td>\n",
       "      <td>NaN</td>\n",
       "      <td>NaN</td>\n",
       "    </tr>\n",
       "  </tbody>\n",
       "</table>\n",
       "</div>"
      ],
      "text/plain": [
       "       index     node_id  lat  lon\n",
       "50941  50941  5220256902  NaN  NaN"
      ]
     },
     "execution_count": 118,
     "metadata": {},
     "output_type": "execute_result"
    }
   ],
   "source": [
    "merged[merged['lat'].isnull()]"
   ]
  },
  {
   "cell_type": "code",
   "execution_count": 119,
   "metadata": {},
   "outputs": [
    {
     "data": {
      "text/plain": [
       "'<!DOCTYPE HTML PUBLIC \"-//IETF//DTD HTML 2.0//EN\">\\n<html><head>\\n<title>404 Not Found</title>\\n</head><body>\\n<h1>Not Found</h1>\\n<p>The requested URL /api/0.6/node/node_id    5220256902\\nName: 50941, dtype: object was not found on this server.</p>\\n<hr>\\n<address>Apache/2.4.29 (Ubuntu) Server at api.openstreetmap.org Port 80</address>\\n</body></html>\\n'"
      ]
     },
     "execution_count": 119,
     "metadata": {},
     "output_type": "execute_result"
    }
   ],
   "source": [
    "api(merged.loc[50941,['node_id']])"
   ]
  },
  {
   "cell_type": "markdown",
   "metadata": {},
   "source": [
    "### Network edges"
   ]
  },
  {
   "cell_type": "code",
   "execution_count": 20,
   "metadata": {},
   "outputs": [],
   "source": [
    "lista=[]\n",
    "for line in nx.generate_edgelist(G1, data=False):\n",
    "    lista.append(line)"
   ]
  },
  {
   "cell_type": "code",
   "execution_count": 21,
   "metadata": {},
   "outputs": [],
   "source": [
    "df=pd.DataFrame(index=[list(range(len(lista)))],columns=['lista','source','target'])"
   ]
  },
  {
   "cell_type": "code",
   "execution_count": 22,
   "metadata": {},
   "outputs": [],
   "source": [
    "df.loc[:,'lista']=lista"
   ]
  },
  {
   "cell_type": "code",
   "execution_count": 26,
   "metadata": {},
   "outputs": [
    {
     "data": {
      "text/html": [
       "<div>\n",
       "<style scoped>\n",
       "    .dataframe tbody tr th:only-of-type {\n",
       "        vertical-align: middle;\n",
       "    }\n",
       "\n",
       "    .dataframe tbody tr th {\n",
       "        vertical-align: top;\n",
       "    }\n",
       "\n",
       "    .dataframe thead th {\n",
       "        text-align: right;\n",
       "    }\n",
       "</style>\n",
       "<table border=\"1\" class=\"dataframe\">\n",
       "  <thead>\n",
       "    <tr style=\"text-align: right;\">\n",
       "      <th></th>\n",
       "      <th>lista</th>\n",
       "      <th>source</th>\n",
       "      <th>target</th>\n",
       "    </tr>\n",
       "  </thead>\n",
       "  <tbody>\n",
       "    <tr>\n",
       "      <th>0</th>\n",
       "      <td>262391492 5728971089</td>\n",
       "      <td>262391492</td>\n",
       "      <td>5728971089</td>\n",
       "    </tr>\n",
       "    <tr>\n",
       "      <th>1</th>\n",
       "      <td>2272948048 2272948045</td>\n",
       "      <td>2272948048</td>\n",
       "      <td>2272948045</td>\n",
       "    </tr>\n",
       "    <tr>\n",
       "      <th>2</th>\n",
       "      <td>2272948048 2272948047</td>\n",
       "      <td>2272948048</td>\n",
       "      <td>2272948047</td>\n",
       "    </tr>\n",
       "    <tr>\n",
       "      <th>3</th>\n",
       "      <td>494927893 494927791</td>\n",
       "      <td>494927893</td>\n",
       "      <td>494927791</td>\n",
       "    </tr>\n",
       "    <tr>\n",
       "      <th>4</th>\n",
       "      <td>5098176538 5098176539</td>\n",
       "      <td>5098176538</td>\n",
       "      <td>5098176539</td>\n",
       "    </tr>\n",
       "  </tbody>\n",
       "</table>\n",
       "</div>"
      ],
      "text/plain": [
       "                   lista      source      target\n",
       "0   262391492 5728971089   262391492  5728971089\n",
       "1  2272948048 2272948045  2272948048  2272948045\n",
       "2  2272948048 2272948047  2272948048  2272948047\n",
       "3    494927893 494927791   494927893   494927791\n",
       "4  5098176538 5098176539  5098176538  5098176539"
      ]
     },
     "execution_count": 26,
     "metadata": {},
     "output_type": "execute_result"
    }
   ],
   "source": [
    "df.head()"
   ]
  },
  {
   "cell_type": "code",
   "execution_count": 24,
   "metadata": {},
   "outputs": [],
   "source": [
    "df.loc[:,'source']=df['lista'].apply(lambda x: x.split()[0])"
   ]
  },
  {
   "cell_type": "code",
   "execution_count": 25,
   "metadata": {},
   "outputs": [],
   "source": [
    "df.loc[:,'target']=df['lista'].apply(lambda x: x.split()[1])"
   ]
  },
  {
   "cell_type": "code",
   "execution_count": 27,
   "metadata": {},
   "outputs": [],
   "source": [
    "df.loc[:,'pairs']=df.apply(lambda row: ((row['source']),(row['target'])),axis=1)"
   ]
  },
  {
   "cell_type": "code",
   "execution_count": 28,
   "metadata": {},
   "outputs": [],
   "source": [
    "df.loc[:,'pairs_2']=df.apply(lambda row: ((row['target']),(row['source'])),axis=1)"
   ]
  },
  {
   "cell_type": "code",
   "execution_count": 29,
   "metadata": {},
   "outputs": [
    {
     "data": {
      "text/html": [
       "<div>\n",
       "<style scoped>\n",
       "    .dataframe tbody tr th:only-of-type {\n",
       "        vertical-align: middle;\n",
       "    }\n",
       "\n",
       "    .dataframe tbody tr th {\n",
       "        vertical-align: top;\n",
       "    }\n",
       "\n",
       "    .dataframe thead th {\n",
       "        text-align: right;\n",
       "    }\n",
       "</style>\n",
       "<table border=\"1\" class=\"dataframe\">\n",
       "  <thead>\n",
       "    <tr style=\"text-align: right;\">\n",
       "      <th></th>\n",
       "      <th>lista</th>\n",
       "      <th>source</th>\n",
       "      <th>target</th>\n",
       "      <th>pairs</th>\n",
       "      <th>pairs_2</th>\n",
       "    </tr>\n",
       "  </thead>\n",
       "  <tbody>\n",
       "    <tr>\n",
       "      <th>0</th>\n",
       "      <td>262391492 5728971089</td>\n",
       "      <td>262391492</td>\n",
       "      <td>5728971089</td>\n",
       "      <td>(262391492, 5728971089)</td>\n",
       "      <td>(5728971089, 262391492)</td>\n",
       "    </tr>\n",
       "    <tr>\n",
       "      <th>1</th>\n",
       "      <td>2272948048 2272948045</td>\n",
       "      <td>2272948048</td>\n",
       "      <td>2272948045</td>\n",
       "      <td>(2272948048, 2272948045)</td>\n",
       "      <td>(2272948045, 2272948048)</td>\n",
       "    </tr>\n",
       "  </tbody>\n",
       "</table>\n",
       "</div>"
      ],
      "text/plain": [
       "                   lista      source      target                     pairs  \\\n",
       "0   262391492 5728971089   262391492  5728971089   (262391492, 5728971089)   \n",
       "1  2272948048 2272948045  2272948048  2272948045  (2272948048, 2272948045)   \n",
       "\n",
       "                    pairs_2  \n",
       "0   (5728971089, 262391492)  \n",
       "1  (2272948045, 2272948048)  "
      ]
     },
     "execution_count": 29,
     "metadata": {},
     "output_type": "execute_result"
    }
   ],
   "source": [
    "df.head(2)"
   ]
  },
  {
   "cell_type": "code",
   "execution_count": 32,
   "metadata": {},
   "outputs": [],
   "source": [
    "pairs.reset_index(inplace=True)"
   ]
  },
  {
   "cell_type": "code",
   "execution_count": 33,
   "metadata": {},
   "outputs": [],
   "source": [
    "pairs.loc[:,'source']=pairs['source'].astype('str')\n",
    "pairs.loc[:,'target']=pairs['target'].astype('str')"
   ]
  },
  {
   "cell_type": "code",
   "execution_count": 34,
   "metadata": {},
   "outputs": [],
   "source": [
    "pairs.loc[:,'pairs']=pairs.apply(lambda row: ((row['source']),(row['target'])),axis=1)"
   ]
  },
  {
   "cell_type": "code",
   "execution_count": 35,
   "metadata": {},
   "outputs": [],
   "source": [
    "merge=pd.merge(df,pairs[['pairs','weight']],left_on='pairs',right_on='pairs',how='left')"
   ]
  },
  {
   "cell_type": "code",
   "execution_count": 36,
   "metadata": {},
   "outputs": [],
   "source": [
    "pairs_notfound=pairs[~pairs['pairs'].isin(merge[merge['weight'].notnull()]['pairs'].tolist())]"
   ]
  },
  {
   "cell_type": "code",
   "execution_count": 37,
   "metadata": {},
   "outputs": [
    {
     "data": {
      "text/plain": [
       "((2156, 4), (93781, 4))"
      ]
     },
     "execution_count": 37,
     "metadata": {},
     "output_type": "execute_result"
    }
   ],
   "source": [
    "# check how many pairs do we have left that could not be matched\n",
    "pairs_notfound.shape,pairs.shape"
   ]
  },
  {
   "cell_type": "code",
   "execution_count": 38,
   "metadata": {},
   "outputs": [],
   "source": [
    "merge.drop(['lista'],axis=1,inplace=True)"
   ]
  },
  {
   "cell_type": "code",
   "execution_count": 39,
   "metadata": {},
   "outputs": [
    {
     "data": {
      "text/html": [
       "<div>\n",
       "<style scoped>\n",
       "    .dataframe tbody tr th:only-of-type {\n",
       "        vertical-align: middle;\n",
       "    }\n",
       "\n",
       "    .dataframe tbody tr th {\n",
       "        vertical-align: top;\n",
       "    }\n",
       "\n",
       "    .dataframe thead th {\n",
       "        text-align: right;\n",
       "    }\n",
       "</style>\n",
       "<table border=\"1\" class=\"dataframe\">\n",
       "  <thead>\n",
       "    <tr style=\"text-align: right;\">\n",
       "      <th></th>\n",
       "      <th>source</th>\n",
       "      <th>target</th>\n",
       "      <th>pairs</th>\n",
       "      <th>pairs_2</th>\n",
       "      <th>weight</th>\n",
       "    </tr>\n",
       "  </thead>\n",
       "  <tbody>\n",
       "    <tr>\n",
       "      <th>0</th>\n",
       "      <td>262391492</td>\n",
       "      <td>5728971089</td>\n",
       "      <td>(262391492, 5728971089)</td>\n",
       "      <td>(5728971089, 262391492)</td>\n",
       "      <td>NaN</td>\n",
       "    </tr>\n",
       "    <tr>\n",
       "      <th>1</th>\n",
       "      <td>2272948048</td>\n",
       "      <td>2272948045</td>\n",
       "      <td>(2272948048, 2272948045)</td>\n",
       "      <td>(2272948045, 2272948048)</td>\n",
       "      <td>NaN</td>\n",
       "    </tr>\n",
       "  </tbody>\n",
       "</table>\n",
       "</div>"
      ],
      "text/plain": [
       "       source      target                     pairs                   pairs_2  \\\n",
       "0   262391492  5728971089   (262391492, 5728971089)   (5728971089, 262391492)   \n",
       "1  2272948048  2272948045  (2272948048, 2272948045)  (2272948045, 2272948048)   \n",
       "\n",
       "   weight  \n",
       "0     NaN  \n",
       "1     NaN  "
      ]
     },
     "execution_count": 39,
     "metadata": {},
     "output_type": "execute_result"
    }
   ],
   "source": [
    "merge.head(2)"
   ]
  },
  {
   "cell_type": "code",
   "execution_count": 40,
   "metadata": {},
   "outputs": [],
   "source": [
    "swap_od=pd.merge(merge,pairs_notfound[['pairs','weight']],left_on='pairs_2',right_on='pairs',how='left')"
   ]
  },
  {
   "cell_type": "code",
   "execution_count": 44,
   "metadata": {},
   "outputs": [],
   "source": [
    "swap_od['weight_x'].fillna(0,inplace=True)\n",
    "swap_od['weight_y'].fillna(0,inplace=True)\n",
    "swap_od['weight_raw']=swap_od['weight_x']+swap_od['weight_y']"
   ]
  },
  {
   "cell_type": "code",
   "execution_count": 45,
   "metadata": {},
   "outputs": [
    {
     "data": {
      "text/plain": [
       "1147346.0"
      ]
     },
     "execution_count": 45,
     "metadata": {},
     "output_type": "execute_result"
    }
   ],
   "source": [
    "# This is the amount of links we have, from now on, we are going to add one weight to be able to draw in gephi\n",
    "swap_od['weight_raw'].sum()"
   ]
  },
  {
   "cell_type": "code",
   "execution_count": 65,
   "metadata": {},
   "outputs": [
    {
     "data": {
      "text/plain": [
       "1147346"
      ]
     },
     "execution_count": 65,
     "metadata": {},
     "output_type": "execute_result"
    }
   ],
   "source": [
    "# check we had assigned all the links to the network or the not_found group\n",
    "pairs['weight'].sum()-pairs_notfound2['weight'].sum()"
   ]
  },
  {
   "cell_type": "code",
   "execution_count": 46,
   "metadata": {},
   "outputs": [
    {
     "data": {
      "text/plain": [
       "1637201.0"
      ]
     },
     "execution_count": 46,
     "metadata": {},
     "output_type": "execute_result"
    }
   ],
   "source": [
    "swap_od['weight']=swap_od['weight_raw']+1\n",
    "swap_od['weight'].sum()"
   ]
  },
  {
   "cell_type": "code",
   "execution_count": 60,
   "metadata": {},
   "outputs": [
    {
     "data": {
      "text/plain": [
       "(380, 4)"
      ]
     },
     "execution_count": 60,
     "metadata": {},
     "output_type": "execute_result"
    }
   ],
   "source": [
    "pairs_notfound2=pairs[(~pairs['pairs'].isin(df['pairs'].tolist()))&(~pairs['pairs'].isin(df['pairs_2'].tolist()))]\n",
    "pairs_notfound2.shape"
   ]
  },
  {
   "cell_type": "code",
   "execution_count": 57,
   "metadata": {},
   "outputs": [],
   "source": [
    "# this is the resulting Flow Network\n",
    "swap_od[['source','target','weight']].set_index('source').to_csv('pairs_latent_bike_20190401.csv')"
   ]
  },
  {
   "cell_type": "markdown",
   "metadata": {},
   "source": [
    "## Checking errors and duplicates"
   ]
  },
  {
   "cell_type": "code",
   "execution_count": 71,
   "metadata": {},
   "outputs": [],
   "source": [
    "# df.loc[:,'weight']=0"
   ]
  },
  {
   "cell_type": "code",
   "execution_count": 72,
   "metadata": {},
   "outputs": [],
   "source": [
    "# df.drop('lista',axis=1,inplace=True)"
   ]
  },
  {
   "cell_type": "code",
   "execution_count": 73,
   "metadata": {},
   "outputs": [],
   "source": [
    "# pairs.loc[:,'source']=pairs['source'].astype('str')\n",
    "# pairs.loc[:,'target']=pairs['target'].astype('str')"
   ]
  },
  {
   "cell_type": "code",
   "execution_count": 58,
   "metadata": {},
   "outputs": [],
   "source": [
    "# df.head(2)"
   ]
  },
  {
   "cell_type": "code",
   "execution_count": 59,
   "metadata": {},
   "outputs": [],
   "source": [
    "# df.shape[0]-df.drop_duplicates(subset=['source','target']).shape[0]"
   ]
  },
  {
   "cell_type": "code",
   "execution_count": 76,
   "metadata": {},
   "outputs": [],
   "source": [
    "# Drop duplicates cos they are an error\n",
    "# df.drop_duplicates(subset=['source','target'],inplace=True)"
   ]
  },
  {
   "cell_type": "code",
   "execution_count": 48,
   "metadata": {},
   "outputs": [],
   "source": [
    "# pairs.head(2)"
   ]
  },
  {
   "cell_type": "code",
   "execution_count": 49,
   "metadata": {},
   "outputs": [],
   "source": [
    "# # Check we do not have duplicates, which would mean we did something wrong\n",
    "# pairs.shape[0]-pairs.drop_duplicates(subset=['source','target']).shape[0]"
   ]
  },
  {
   "cell_type": "code",
   "execution_count": 79,
   "metadata": {},
   "outputs": [],
   "source": [
    "# for index,row in pairs.iterrows():\n",
    "#     if not df[(df['source']==row['source'])&(df['target']==row['target'])].empty:\n",
    "#         df.loc[(df['source']==row['source'])&(df['target']==row['target']),'weight']=row['weight']\n",
    "#     else:\n",
    "#         if not df[(df['target']==row['source'])&(df['source']==row['target'])].empty:\n",
    "#             df.loc[(df['target']==row['source'])&(df['source']==row['target']),'weight']=row['weight']\n",
    "#         else:\n",
    "#             pairs.loc[index,'error']=1"
   ]
  },
  {
   "cell_type": "code",
   "execution_count": 50,
   "metadata": {},
   "outputs": [],
   "source": [
    "# df['weight'].sum(),pairs['weight'].sum()"
   ]
  },
  {
   "cell_type": "code",
   "execution_count": 51,
   "metadata": {},
   "outputs": [],
   "source": [
    "# pairs[pairs['error']==1].shape"
   ]
  },
  {
   "cell_type": "code",
   "execution_count": 52,
   "metadata": {},
   "outputs": [],
   "source": [
    "# df_back_up=df"
   ]
  },
  {
   "cell_type": "code",
   "execution_count": 53,
   "metadata": {},
   "outputs": [],
   "source": [
    "# df.loc[:,'weight']=df['weight']+1"
   ]
  },
  {
   "cell_type": "code",
   "execution_count": 54,
   "metadata": {},
   "outputs": [],
   "source": [
    "# df.set_index('source').to_csv('pairs_latent_bike.csv')"
   ]
  }
 ],
 "metadata": {
  "kernelspec": {
   "display_name": "Python 3",
   "language": "python",
   "name": "python3"
  },
  "language_info": {
   "codemirror_mode": {
    "name": "ipython",
    "version": 3
   },
   "file_extension": ".py",
   "mimetype": "text/x-python",
   "name": "python",
   "nbconvert_exporter": "python",
   "pygments_lexer": "ipython3",
   "version": "3.6.7"
  }
 },
 "nbformat": 4,
 "nbformat_minor": 2
}
